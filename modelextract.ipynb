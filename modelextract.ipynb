{
  "nbformat": 4,
  "nbformat_minor": 0,
  "metadata": {
    "colab": {
      "provenance": [],
      "mount_file_id": "1BeuwLXdasRRws_fQfyOOcZOjhLZDEDeX",
      "authorship_tag": "ABX9TyMH0rEkxqc2VvgzME51VPvV",
      "include_colab_link": true
    },
    "kernelspec": {
      "name": "python3",
      "display_name": "Python 3"
    },
    "language_info": {
      "name": "python"
    }
  },
  "cells": [
    {
      "cell_type": "markdown",
      "metadata": {
        "id": "view-in-github",
        "colab_type": "text"
      },
      "source": [
        "<a href=\"https://colab.research.google.com/github/sarthak395/Dass_Project/blob/main/modelextract.ipynb\" target=\"_parent\"><img src=\"https://colab.research.google.com/assets/colab-badge.svg\" alt=\"Open In Colab\"/></a>"
      ]
    },
    {
      "cell_type": "code",
      "execution_count": 2,
      "metadata": {
        "id": "i_TqyEQGVmcv"
      },
      "outputs": [],
      "source": [
        "import pandas as pd\n",
        "import re"
      ]
    },
    {
      "cell_type": "code",
      "source": [
        "# LOADING DATA\n",
        "data = pd.read_csv('monitor.csv')\n",
        "names = data['Name'];\n",
        "details = data['Details']\n",
        "print(names)"
      ],
      "metadata": {
        "id": "Wi7kfMpqVsb3"
      },
      "execution_count": null,
      "outputs": []
    },
    {
      "cell_type": "code",
      "source": [
        "# GETTING INCH SIZE\n",
        "expression = '(([0-9]+)*(\\.)*([0-9]+))([\\-]{0,1})([\\s]{0,1})(?i)inch'\n",
        "incheslist = [];\n",
        "\n",
        "for ind in data.index:\n",
        "  # print(data['Name'][ind])\n",
        "  data['Name'][ind] = re.sub(r'â€³', '', data['Name'][ind]) \n",
        "  data['Details'][ind] = re.sub(r'â€³', '', data['Details'][ind])\n",
        "\n",
        "  data['Name'][ind] = re.sub('â€', '', data['Name'][ind]) \n",
        "  data['Details'][ind] = re.sub('â€', '', data['Details'][ind])\n",
        "\n",
        "  inch_search = re.search(expression, data['Name'][ind]);\n",
        "  if not inch_search:\n",
        "    inch2_search = re.search(expression, data['Details'][ind]);\n",
        "    if inch2_search:\n",
        "      incheslist.append(inch2_search.group(1));\n",
        "      print(\"Found in details \",inch2_search.group(1));\n",
        "    else:\n",
        "      expr2 = ' (([0-9]+)*(\\.)*([0-9]+))([\\-]{0,1})([\\s]{0,1}) '\n",
        "      inch3_search = re.search(expr2, data['Name'][ind]);\n",
        "      if(inch3_search):\n",
        "        incheslist.append(inch3_search.group(1));\n",
        "      else:\n",
        "        inch4_search = re.search(expr2, data['Details'][ind]);\n",
        "        if(inch4_search):\n",
        "          incheslist.append(inch4_search.group(1));\n",
        "        else:\n",
        "          incheslist.append(None);\n",
        "  else:\n",
        "    incheslist.append(inch_search.group(1))\n",
        "\n",
        "incheslist = pd.Series(incheslist)\n",
        "data['inches'] = incheslist"
      ],
      "metadata": {
        "id": "oCJ0pf0IWGqc"
      },
      "execution_count": null,
      "outputs": []
    },
    {
      "cell_type": "code",
      "source": [
        "for inches in data['inches']:\n",
        "  if not inches:\n",
        "    print(inches)"
      ],
      "metadata": {
        "id": "Z8_ILUZVa_1O"
      },
      "execution_count": null,
      "outputs": []
    },
    {
      "cell_type": "code",
      "source": [
        "# EXTRACTED MODEL NUMBERS FOR LG\n",
        "expression = 'LG '\n",
        "lglist = [];\n",
        "for name in names:\n",
        "  inch_search = re.search(expression, name);\n",
        "  if inch_search:\n",
        "    lglist.append(name);\n",
        "\n",
        "lglist = pd.Series(lglist)\n",
        "lgmodelnumbers = []\n",
        "# now we have to find model no.\n",
        "model_expression = '\\d{2}[MUBG][A-Za-z0-9]*(-B)?'\n",
        "for name in lglist:\n",
        "  inch_search = re.search(model_expression,name);\n",
        "  if inch_search:\n",
        "    lgmodelnumbers.append({\"name\":name , \"model\" : inch_search.group(0)})\n",
        "  else:\n",
        "    print(name)\n",
        "\n",
        "lgmodelnumbers = pd.DataFrame(lgmodelnumbers);"
      ],
      "metadata": {
        "id": "umySWsOJyuWr"
      },
      "execution_count": 4,
      "outputs": []
    },
    {
      "cell_type": "code",
      "source": [
        "#EXTRACTED MODEL NUMBERS FOR HP\n",
        "expression = 'HP '\n",
        "hplist = [];\n",
        "for name in names:\n",
        "  inch_search = re.search(expression, name);\n",
        "  if inch_search:\n",
        "    hplist.append(name);\n",
        "\n",
        "hplist = pd.Series(hplist)\n",
        "hpmodelnumbers = []\n",
        "# now we have to find model no.\n",
        "model_expression = '(HP) (V?\\d{1,2}[A-Za-z0-9]*) '\n",
        "for name in hplist:\n",
        "  inch_search = re.search(model_expression,name);\n",
        "  if inch_search:\n",
        "    hpmodelnumbers.append({\"name\":name , \"model\" : inch_search.group(2)})\n",
        "  else:\n",
        "    print(name)\n",
        "\n",
        "hpmodelnumbers = pd.DataFrame(hpmodelnumbers);"
      ],
      "metadata": {
        "id": "zQJf-4_A77rI"
      },
      "execution_count": 5,
      "outputs": []
    },
    {
      "cell_type": "code",
      "source": [
        "# EXTRACTING MODEL NUMBER FOR SAMSUNG\n",
        "expression = '(?i)samsung '\n",
        "samlist = [];\n",
        "for name in names:\n",
        "  inch_search = re.search(expression, name);\n",
        "  if inch_search:\n",
        "    samlist.append(name);\n",
        "\n",
        "\n",
        "samlist = pd.Series(samlist)\n",
        "sammodelnumbers = []\n",
        "# now we have to find model no.\n",
        "model_expression = '(LC|LF|LS|LU)\\w*(WXXL)?'\n",
        "for name in samlist:\n",
        "  inch_search = re.search(model_expression,name);\n",
        "  if inch_search:\n",
        "    sammodelnumbers.append({\"name\":name , \"model\" : inch_search.group(0)})\n",
        "  else:\n",
        "    print(name)\n",
        "\n",
        "# ONLY CASE WHERE MODEL NUMBER WAS IN DETAILS\n",
        "sammodelnumbers.append({\"name\":\"SAMSUNG 27 INCH CURVED FULL HD 1800R LED MONITOR\" , \"model\":\"LC27F591FDWXXL\"})\n",
        "\n",
        "sammodelnumbers = pd.DataFrame(sammodelnumbers);"
      ],
      "metadata": {
        "colab": {
          "base_uri": "https://localhost:8080/"
        },
        "id": "bX1ttmS--aUo",
        "outputId": "59188777-4c07-414e-bc8c-3f2527347c84"
      },
      "execution_count": 6,
      "outputs": [
        {
          "output_type": "stream",
          "name": "stdout",
          "text": [
            "SAMSUNG 27 INCH CURVED FULL HD 1800R LED MONITOR\n"
          ]
        }
      ]
    },
    {
      "cell_type": "code",
      "source": [
        "# EXTRACTING MODEL NUMBERS FOR ACER\n",
        "expression = '(?i)acer '\n",
        "acerlist = [];\n",
        "for name in names:\n",
        "  inch_search = re.search(expression, name);\n",
        "  if inch_search:\n",
        "    acerlist.append(name);\n",
        "\n",
        "\n",
        "acerlist = pd.Series(acerlist)\n",
        "acermodelnumbers = []\n",
        "# now we have to find model no.\n",
        "model_expression = '((?i)acer) (((?i)(nitro|aopen) )?[A-Za-z]+[\\d+][A-Za-z0-9]*) '\n",
        "for name in acerlist:\n",
        "  inch_search = re.search(model_expression,name);\n",
        "  if inch_search:\n",
        "    acermodelnumbers.append({\"name\":name , \"model\" : inch_search.group(2)})\n",
        "  else:\n",
        "    print(name)\n",
        "\n",
        "acermodelnumbers = pd.DataFrame(acermodelnumbers);"
      ],
      "metadata": {
        "colab": {
          "base_uri": "https://localhost:8080/"
        },
        "id": "_Vc07Cz--dHw",
        "outputId": "4597123f-d544-4fd2-c3a4-44c0ea402cc1"
      },
      "execution_count": 7,
      "outputs": [
        {
          "output_type": "stream",
          "name": "stdout",
          "text": [
            "Acer Aopen 27HC1R - 27 Inch Curved Gaming Monitor (1800R Curved, AMD FreeSync, 4ms Response Time, 144Hz Refresh Rate, Frameless, FHD VA Panel, DVI, HDMI, DisplayPort)\n",
            "Acer 24 Inch KG241QS AMD FreeSync 0.5ms Response Time 165Hz Refresh Rate Gaming Monitor\n",
            "ACER NITRO VG 24 INCH FULL HD VG240YPBIIP GAMING MONITOR\n",
            "Acer Predator XB271HU - 27 Inch Gaming Monitor (Nvidia G-Sync, 4Ms Response Time, 144Hz Refresh Rate, 2K WQHD IPS Panel, HDMI, DisplayPort, Speakers)\n"
          ]
        },
        {
          "output_type": "stream",
          "name": "stderr",
          "text": [
            "<ipython-input-7-8cba9b5a0e72>:15: DeprecationWarning: Flags not at the start of the expression '((?i)acer) (((?i)(ni' (truncated)\n",
            "  inch_search = re.search(model_expression,name);\n"
          ]
        }
      ]
    },
    {
      "cell_type": "code",
      "source": [
        "print(acermodelnumbers)"
      ],
      "metadata": {
        "id": "B02ryOVeHJam"
      },
      "execution_count": null,
      "outputs": []
    },
    {
      "cell_type": "code",
      "source": [
        "# EXTRACTING MODEL NUMBERS FOR Dell\n",
        "expression = '(?i)dell '\n",
        "delllist = [];\n",
        "for name in names:\n",
        "  inch_search = re.search(expression, name);\n",
        "  if inch_search:\n",
        "    delllist.append(name);\n",
        "\n",
        "delllist = pd.Series(delllist)\n",
        "dellmodelnumbers = []\n",
        "# now we have to find model no.\n",
        "model_expression = ' (D|E|P|SE|U)[0-9]*[A-Z0-9]* '\n",
        "for name in delllist:\n",
        "  inch_search = re.search(model_expression,name);\n",
        "  if inch_search:\n",
        "    dellmodelnumbers.append({\"name\":name , \"model\" : inch_search.group(0)})\n",
        "  else:\n",
        "    print(name)\n",
        "\n",
        "dellmodelnumbers = pd.DataFrame(dellmodelnumbers);"
      ],
      "metadata": {
        "id": "gZ1wMA7zKto7"
      },
      "execution_count": 34,
      "outputs": []
    },
    {
      "cell_type": "code",
      "source": [
        "print(dellmodelnumbers)"
      ],
      "metadata": {
        "id": "ShyNOOznLxrP"
      },
      "execution_count": null,
      "outputs": []
    },
    {
      "cell_type": "code",
      "source": [
        "# EXTRACTED MODEL NUMBERS FOR BENQ\n",
        "expression = '(?i)benq '\n",
        "benqlist = [];\n",
        "for name in names:\n",
        "  inch_search = re.search(expression, name);\n",
        "  if inch_search:\n",
        "    benqlist.append(name);\n",
        "\n",
        "benqlist = pd.Series(benqlist)\n",
        "benqmodelnumbers = []\n",
        "# now we have to find model no.\n",
        "model_expression = ' (PD|BL|EL|EW|EX|GW|PV|SW|XL|GL)[A-Z0-9]*'\n",
        "for name in benqlist:\n",
        "  inch_search = re.search(model_expression,name);\n",
        "  if inch_search:\n",
        "    benqmodelnumbers.append({\"name\":name , \"model\" : inch_search.group(0)})\n",
        "  else:\n",
        "    print(name)\n",
        "\n",
        "benqmodelnumbers = pd.DataFrame(benqmodelnumbers);"
      ],
      "metadata": {
        "id": "p_lzp3r6NHQk"
      },
      "execution_count": 36,
      "outputs": []
    },
    {
      "cell_type": "code",
      "source": [
        "print(benqmodelnumbers)"
      ],
      "metadata": {
        "id": "9qfrQQQNNlsq"
      },
      "execution_count": null,
      "outputs": []
    },
    {
      "cell_type": "code",
      "source": [
        "# EXTRACTING MODEL NUMBER FOR ASUS\n",
        "expression = '(?i)asus '\n",
        "asuslist = [];\n",
        "for name in names:\n",
        "  inch_search = re.search(expression, name);\n",
        "  if inch_search:\n",
        "    asuslist.append(name);\n",
        "\n",
        "asuslist = pd.Series(asuslist)\n",
        "asusmodelnumbers = []\n",
        "# now we have to find model no.\n",
        "model_expression = ' (VG|VP|VZ|PA|XG|PB|VA)[A-Za-z0-9]* '\n",
        "for name in asuslist:\n",
        "  inch_search = re.search(model_expression,name);\n",
        "  if inch_search:\n",
        "    asusmodelnumbers.append({\"name\":name , \"model\" : inch_search.group(0)})\n",
        "  else:\n",
        "    print(name)\n",
        "\n",
        "asusmodelnumbers = pd.DataFrame(asusmodelnumbers);"
      ],
      "metadata": {
        "id": "ZOoy4fdGNqkd"
      },
      "execution_count": 44,
      "outputs": []
    },
    {
      "cell_type": "code",
      "source": [
        "print(asusmodelnumbers)"
      ],
      "metadata": {
        "id": "sNAmWZN7PanI"
      },
      "execution_count": null,
      "outputs": []
    },
    {
      "cell_type": "code",
      "source": [
        "#EXTRACTED MODEL NUMBER FOR VIEWSONIC\n",
        "expression = '(?i)viewsonic '\n",
        "viewsoniclist = [];\n",
        "for name in names:\n",
        "  inch_search = re.search(expression, name);\n",
        "  if inch_search:\n",
        "    viewsoniclist.append(name);\n",
        "\n",
        "viewsoniclist = pd.Series(viewsoniclist)\n",
        "viewsonicmodelnumbers = []\n",
        "# now we have to find model no.\n",
        "model_expression = ' (VA|VX|VP|XG|TD)[A-Za-z0-9]*'\n",
        "for name in viewsoniclist:\n",
        "  inch_search = re.search(model_expression,name);\n",
        "  if inch_search:\n",
        "    viewsonicmodelnumbers.append({\"name\":name , \"model\" : inch_search.group(0)})\n",
        "  else:\n",
        "    print(name)\n",
        "\n",
        "viewsonicmodelnumbers = pd.DataFrame(viewsonicmodelnumbers);"
      ],
      "metadata": {
        "id": "q1tc6HLZPdiu"
      },
      "execution_count": 49,
      "outputs": []
    },
    {
      "cell_type": "code",
      "source": [
        "print(viewsonicmodelnumbers)"
      ],
      "metadata": {
        "id": "MzS7x1wmQC3b"
      },
      "execution_count": null,
      "outputs": []
    },
    {
      "cell_type": "code",
      "source": [
        "# EXTRACTED MODEL NUMBER FOR GIGABYTE\n",
        "expression = '(?i)(gigabyte|aorus) '\n",
        "gigabytelist = [];\n",
        "for name in names:\n",
        "  inch_search = re.search(expression, name);\n",
        "  if inch_search:\n",
        "    gigabytelist.append(name);\n",
        "\n",
        "gigabytelist = pd.Series(gigabytelist)\n",
        "gigabytemodelnumbers = []\n",
        "# now we have to find model no.\n",
        "model_expression = ' (G|M|CV|FI|AD)[A-Z0-9]* '\n",
        "for name in gigabytelist:\n",
        "  inch_search = re.search(model_expression,name);\n",
        "  if inch_search:\n",
        "    gigabytemodelnumbers.append({\"name\":name , \"model\" : inch_search.group(0)})\n",
        "  else:\n",
        "    print(name)\n",
        "\n",
        "gigabytemodelnumbers = pd.DataFrame(gigabytemodelnumbers);"
      ],
      "metadata": {
        "id": "NDAzONN0QF-a"
      },
      "execution_count": 94,
      "outputs": []
    },
    {
      "cell_type": "code",
      "source": [
        "print(gigabytemodelnumbers)"
      ],
      "metadata": {
        "id": "L-NSz6NgQkA8"
      },
      "execution_count": null,
      "outputs": []
    },
    {
      "cell_type": "code",
      "source": [
        "#EXTRACTING MODEL NUMBERS FOR MSI\n",
        "expression = '(?i)msi '\n",
        "msilist = [];\n",
        "for name in names:\n",
        "  inch_search = re.search(expression, name);\n",
        "  if inch_search:\n",
        "    msilist.append(name);\n",
        "\n",
        "msilist = pd.Series(msilist)\n",
        "msimodelnumbers = []\n",
        "# now we have to find model no.\n",
        "model_expression = ' (G|MAG|MP)[A-Z0-9]* '\n",
        "for name in msilist:\n",
        "  inch_search = re.search(model_expression,name);\n",
        "  if inch_search:\n",
        "    msimodelnumbers.append({\"name\":name , \"model\" : inch_search.group(0)})\n",
        "  else:\n",
        "    print(name)\n",
        "\n",
        "msimodelnumbers = pd.DataFrame(msimodelnumbers);"
      ],
      "metadata": {
        "id": "rtwL7HHBQswf"
      },
      "execution_count": 61,
      "outputs": []
    },
    {
      "cell_type": "code",
      "source": [
        "print(msimodelnumbers)"
      ],
      "metadata": {
        "id": "LMHqWEj6RSFD"
      },
      "execution_count": null,
      "outputs": []
    },
    {
      "cell_type": "code",
      "source": [
        "# EXTRACTED MODEL NUMBER FOR AOC\n",
        "expression = '(?i)aoc '\n",
        "aoclist = [];\n",
        "for name in names:\n",
        "  inch_search = re.search(expression, name);\n",
        "  if inch_search:\n",
        "    aoclist.append(name);\n",
        "\n",
        "aoclist = pd.Series(aoclist)\n",
        "aocmodelnumbers = []\n",
        "# now we have to find model no.\n",
        "model_expression = ' (\\()?(C|E|G)[A-Z0-9]+'\n",
        "for name in aoclist:\n",
        "  inch_search = re.search(model_expression,name);\n",
        "  if inch_search:\n",
        "    aocmodelnumbers.append({\"name\":name , \"model\" : inch_search.group(0)})\n",
        "  else:\n",
        "    print(name)\n",
        "\n",
        "aocmodelnumbers = pd.DataFrame(aocmodelnumbers);"
      ],
      "metadata": {
        "id": "7yEqhJHCRTv4"
      },
      "execution_count": 89,
      "outputs": []
    },
    {
      "cell_type": "code",
      "source": [
        "print(aocmodelnumbers)"
      ],
      "metadata": {
        "id": "qh_03ZmPR_H_"
      },
      "execution_count": null,
      "outputs": []
    }
  ]
}