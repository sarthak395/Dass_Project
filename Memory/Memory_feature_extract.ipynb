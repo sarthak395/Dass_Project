{
  "cells": [
    {
      "cell_type": "markdown",
      "metadata": {
        "colab_type": "text",
        "id": "view-in-github"
      },
      "source": [
        "<a href=\"https://colab.research.google.com/github/sarthak395/Dass_Project/blob/main/Memory/Memorymodelextract.ipynb\" target=\"_parent\"><img src=\"https://colab.research.google.com/assets/colab-badge.svg\" alt=\"Open In Colab\"/></a>"
      ]
    },
    {
      "cell_type": "code",
      "execution_count": 1,
      "metadata": {
        "id": "BiPcBXB4IRFH"
      },
      "outputs": [],
      "source": [
        "import pandas as pd\n",
        "import re\n",
        "import numpy as np\n"
      ]
    },
    {
      "cell_type": "code",
      "execution_count": 2,
      "metadata": {
        "id": "2-FD7LclJBbp"
      },
      "outputs": [],
      "source": [
        "# LOADING DATA\n",
        "def load_data(input_file):\n",
        "    data = pd.read_csv(input_file)\n",
        "    return data\n"
      ]
    },
    {
      "cell_type": "code",
      "execution_count": 3,
      "metadata": {},
      "outputs": [],
      "source": [
        "def inputcols(input_dataset):\n",
        "    names = input_dataset['Name']\n",
        "    details = input_dataset['Details']\n",
        "    return names, details\n"
      ]
    },
    {
      "cell_type": "code",
      "execution_count": 11,
      "metadata": {},
      "outputs": [],
      "source": [
        "data = load_data('memory.csv')\n",
        "names, details = inputcols(data)\n"
      ]
    },
    {
      "cell_type": "code",
      "execution_count": 5,
      "metadata": {},
      "outputs": [],
      "source": [
        "def extract_adata_name(names,expression):\n",
        "    adatalist_name = []\n",
        "    for name in names:\n",
        "        re_search = re.search(expression, name)\n",
        "        if re_search:\n",
        "            adatalist_name.append(name)\n",
        "    return adatalist_name"
      ]
    },
    {
      "cell_type": "code",
      "execution_count": 6,
      "metadata": {},
      "outputs": [],
      "source": [
        "def extract_adata_details(details,expression):\n",
        "    adatalist_det = []\n",
        "    for det in details:\n",
        "        re_search = re.search(expression, det)\n",
        "        if re_search:\n",
        "            adatalist_det.append(det)\n",
        "    return adatalist_det;"
      ]
    },
    {
      "cell_type": "code",
      "execution_count": 16,
      "metadata": {},
      "outputs": [],
      "source": [
        "def filtering_adata_products(names, details, expression):\n",
        "    adatalist_name = extract_adata_name(names, expression);\n",
        "    adatalist_det = extract_adata_details(details, expression);\n",
        "    adatalist = pd.concat([pd.Series(adatalist_name), pd.Series(adatalist_det)], axis=1)\n",
        "    return adatalist;"
      ]
    },
    {
      "cell_type": "code",
      "execution_count": 19,
      "metadata": {},
      "outputs": [],
      "source": [
        "def extract__adata_model_data(names,details,adatalist,model_expression):\n",
        "    adatamodelnumbers = []\n",
        "\n",
        "    for name, det in adatalist.itertuples(index=False):\n",
        "        re_search = re.search(model_expression, name)\n",
        "        if re_search:\n",
        "            adatamodelnumbers.append({\"company\": \"adata\", \"name\": name, \"model\": re_search.group(0)})\n",
        "        else:\n",
        "            re_search2 = re.search(model_expression, det)\n",
        "            if re_search2:\n",
        "                adatamodelnumbers.append({\"company\": \"adata\", \"name\": name, \"model\": re_search2.group(0)})\n",
        "            else:\n",
        "                adatamodelnumbers.append({\"company\": \"adata\", \"name\": name, \"model\": np.nan})\n",
        "\n",
        "    # NOW CHECK\n",
        "\n",
        "    adatamodelnumbers = pd.DataFrame(adatamodelnumbers)\n",
        "    return adatamodelnumbers;"
      ]
    },
    {
      "cell_type": "code",
      "execution_count": 17,
      "metadata": {},
      "outputs": [],
      "source": [
        "class Adata:\n",
        "    def __init__(self,expression,model_expression,names,details):\n",
        "        self.names = names;\n",
        "        self.details = details;\n",
        "        self.expression = expression;\n",
        "        self.model_expression = model_expression;\n",
        "        self.adatalist = pd.DataFrame()\n",
        "        self.adata_data = []\n",
        "    \n",
        "    def setadatalist(self):\n",
        "        self.adatalist = filtering_adata_products(self.names, self.details, self.expression)\n",
        "    \n",
        "    def setadata_data(self):\n",
        "        self.adata_data = extract__adata_model_data(self.names,self.details,self.adatalist,self.model_expression)"
      ]
    },
    {
      "cell_type": "code",
      "execution_count": null,
      "metadata": {},
      "outputs": [],
      "source": [
        "adata = Adata('(?i)adata ' , '(AX4U|AD4U|AX4S)[A-Za-z0-9-]*( )?' , names , details)\n",
        "adata.setadatalist()\n",
        "adata.setadata_data()"
      ]
    },
    {
      "cell_type": "code",
      "execution_count": 58,
      "metadata": {
        "id": "sgzkGKEOJElq"
      },
      "outputs": [],
      "source": [
        "# EXTRACTED MODEL NUMBERS FOR ADATA\n",
        "expression = '(?i)adata '\n",
        "adatalist_name = []\n",
        "adatalist_det = []\n",
        "for name in names:\n",
        "    inch_search = re.search(expression, name)\n",
        "    if inch_search:\n",
        "        adatalist_name.append(name)\n",
        "\n",
        "for det in details:\n",
        "    inch_search = re.search(expression, det)\n",
        "    if inch_search:\n",
        "        adatalist_det.append(det)\n",
        "\n",
        "adatalist = pd.concat(\n",
        "    [pd.Series(adatalist_name), pd.Series(adatalist_det)], axis=1)\n",
        "adatamodelnumbers = []\n",
        "\n",
        "\n",
        "# now we have to find model no.\n",
        "model_expression = '(AX4U|AD4U|AX4S)[A-Za-z0-9-]*( )?'\n",
        "for name, det in adatalist.itertuples(index=False):\n",
        "    inch_search = re.search(model_expression, name)\n",
        "    if inch_search:\n",
        "      # sizesearch = re.search(size_expression,name)\n",
        "      # freqsearch = re.search(freq_expression,name)\n",
        "      # if freqsearch:\n",
        "        adatamodelnumbers.append(\n",
        "            {\"company\": \"adata\", \"name\": name, \"model\": inch_search.group(0)})\n",
        "      # else:\n",
        "      #   print(name)\n",
        "    else:\n",
        "        inch_search2 = re.search(model_expression, det)\n",
        "        if inch_search2:\n",
        "            # sizesearch = re.search(size_expression,name)\n",
        "            # freqsearch = re.search(freq_expression,name)\n",
        "            # if freqsearch:\n",
        "            adatamodelnumbers.append(\n",
        "                {\"company\": \"adata\", \"name\": name, \"model\": inch_search2.group(0)})\n",
        "        # else:\n",
        "        #   print(det)\n",
        "        else:\n",
        "            adatamodelnumbers.append(\n",
        "                {\"company\": \"adata\", \"name\": name, \"model\": np.nan})\n",
        "\n",
        "# NOW CHECK\n",
        "\n",
        "adatamodelnumbers = pd.DataFrame(adatamodelnumbers)\n"
      ]
    },
    {
      "cell_type": "code",
      "execution_count": null,
      "metadata": {
        "id": "i_JFYw2oKHJ0"
      },
      "outputs": [],
      "source": [
        "print(adatamodelnumbers)\n"
      ]
    },
    {
      "cell_type": "code",
      "execution_count": 60,
      "metadata": {
        "id": "mjsBM1lOKI-W"
      },
      "outputs": [],
      "source": [
        "# EXTRACTED MODEL NUMBERS FOR CRUCIAL\n",
        "expression = '(?i)crucial '\n",
        "cruciallist_name = []\n",
        "cruciallist_det = []\n",
        "for name in names:\n",
        "    inch_search = re.search(expression, name)\n",
        "    if inch_search:\n",
        "        cruciallist_name.append(name)\n",
        "\n",
        "for det in details:\n",
        "    inch_search = re.search(expression, det)\n",
        "    if inch_search:\n",
        "        cruciallist_det.append(det)\n",
        "\n",
        "cruciallist = pd.concat(\n",
        "    [pd.Series(cruciallist_name), pd.Series(cruciallist_det)], axis=1)\n",
        "crucialmodelnumbers = []\n",
        "# now we have to find model no.\n",
        "model_expression = '(BL|CB|CT)[A-Za-z0-9-]*( )?'\n",
        "for name, det in cruciallist.itertuples(index=False):\n",
        "    inch_search = re.search(model_expression, name)\n",
        "    if inch_search:\n",
        "        crucialmodelnumbers.append(\n",
        "            {\"company\": \"crucial\", \"name\": name, \"model\": inch_search.group(0)})\n",
        "    else:\n",
        "        inch_search2 = re.search(model_expression, det)\n",
        "        if inch_search2:\n",
        "            crucialmodelnumbers.append(\n",
        "                {\"company\": \"crucial\", \"name\": name, \"model\": inch_search2.group(0)})\n",
        "        else:\n",
        "            crucialmodelnumbers.append(\n",
        "                {\"company\": \"crucial\", \"name\": name, \"model\": np.nan})\n",
        "\n",
        "# NOW CHECK\n",
        "\n",
        "crucialmodelnumbers = pd.DataFrame(crucialmodelnumbers)\n"
      ]
    },
    {
      "cell_type": "code",
      "execution_count": 61,
      "metadata": {
        "colab": {
          "base_uri": "https://localhost:8080/"
        },
        "id": "xGayqrbyTPGM",
        "outputId": "bf2609d2-2440-46b6-dc41-3dcf18091c4c"
      },
      "outputs": [
        {
          "name": "stdout",
          "output_type": "stream",
          "text": [
            "   company                                               name           model\n",
            "0  crucial  Crucial Ballistix 16GB Kit (2 x 8GB) DDR4 3000...  BL2K8G30C15U4B\n",
            "1  crucial  Crucial Ballistix Sport LT 16GB 3200 MHz DDR4 ...  BLS16G4D32AESC\n",
            "2  crucial  Crucial Ballistix Sport LT 8GB 2666 MHz DDR4 R...  BLS8G4D26BFSEK\n",
            "3  crucial  Crucial Ballistix Sport LT 8GB 3200 MHz DDR4 G...  BLS8G4D32AESBK\n",
            "4  crucial  Crucial 16GB 2666MHz DDR4 SODIMM 260 Pin Lapto...      CB16GS2666\n",
            "5  crucial  Crucial 4GB DDR4 2400MHZ SODIMM Laptop Memory ...       CB4GS2400\n",
            "6  crucial      Crucial 4GB DDR4 2400 MHz UDIMM RAM CB4GU2400       CB4GU2400\n",
            "7  crucial  Crucial 8GB DDR4 2400MHZ SODIMM Laptop Memory ...       CB8GS2400\n",
            "8  crucial  Crucial Basics 8GB DDR4 2400MHZ UDIMM Desktop ...       CB8GU2400\n",
            "9  crucial   Crucial 4GB DDR4 2400 MHz UDIMM RAM CT4G4DFS824A    CT4G4DFS824A\n"
          ]
        }
      ],
      "source": [
        "print(crucialmodelnumbers)\n"
      ]
    },
    {
      "cell_type": "code",
      "execution_count": 62,
      "metadata": {
        "id": "uwPHaIwaTSHe"
      },
      "outputs": [],
      "source": [
        "# EXTRACTED MODEL NUMBERS FOR CORCAIR\n",
        "expression = '(?i)corsair '\n",
        "corcairlist_name = []\n",
        "corcairlist_det = []\n",
        "for name in names:\n",
        "    inch_search = re.search(expression, name)\n",
        "    if inch_search:\n",
        "        corcairlist_name.append(name)\n",
        "\n",
        "for det in details:\n",
        "    inch_search = re.search(expression, det)\n",
        "    if inch_search:\n",
        "        corcairlist_det.append(det)\n",
        "\n",
        "corcairlist = pd.concat(\n",
        "    [pd.Series(corcairlist_name), pd.Series(corcairlist_det)], axis=1)\n",
        "corcairmodelnumbers = []\n",
        "# now we have to find modorcair\n",
        "model_expression = '(CMD|CMK|CMZ|CMW|CMT|CMV)[A-Za-z0-9-]*( )?'\n",
        "for name, det in corcairlist.itertuples(index=False):\n",
        "    inch_search = re.search(model_expression, name)\n",
        "    if inch_search:\n",
        "        corcairmodelnumbers.append(\n",
        "            {\"company\": \"corcair\", \"name\": name, \"model\": inch_search.group(0)})\n",
        "    else:\n",
        "        inch_search2 = re.search(model_expression, det)\n",
        "        if inch_search2:\n",
        "            corcairmodelnumbers.append(\n",
        "                {\"company\": \"corcair\", \"name\": name, \"model\": inch_search2.group(0)})\n",
        "        else:\n",
        "            corcairmodelnumbers.append(\n",
        "                {\"company\": \"corcair\", \"name\": name, \"model\": np.nan})\n",
        "\n",
        "# NOW CHECK\n",
        "\n",
        "corcairmodelnumbers = pd.DataFrame(corcairmodelnumbers)\n"
      ]
    },
    {
      "cell_type": "code",
      "execution_count": null,
      "metadata": {
        "id": "KhQBYKV-WuHF"
      },
      "outputs": [],
      "source": [
        "print(corcairmodelnumbers)\n"
      ]
    },
    {
      "cell_type": "code",
      "execution_count": 64,
      "metadata": {
        "id": "p2dh-rnCWyez"
      },
      "outputs": [],
      "source": [
        "# EXTRACTED MODEL NUMBERS FOR g.skill\n",
        "expression = '(?i)(g.skill) '\n",
        "gskilllist_name = []\n",
        "gskilllist_det = []\n",
        "for name in names:\n",
        "    inch_search = re.search(expression, name)\n",
        "    if inch_search:\n",
        "        gskilllist_name.append(name)\n",
        "\n",
        "for det in details:\n",
        "    inch_search = re.search(expression, det)\n",
        "    if inch_search:\n",
        "        gskilllist_det.append(det)\n",
        "\n",
        "gskilllist = pd.concat(\n",
        "    [pd.Series(gskilllist_name), pd.Series(gskilllist_det)], axis=1)\n",
        "gskillmodelnumbers = []\n",
        "# now we have to find modorcair\n",
        "model_expression = '(F4-)[A-Za-z0-9-]*( )?'\n",
        "for name, det in gskilllist.itertuples(index=False):\n",
        "    inch_search = re.search(model_expression, name)\n",
        "    if inch_search:\n",
        "        gskillmodelnumbers.append(\n",
        "            {\"company\": \"gskill\", \"name\": name, \"model\": inch_search.group(0)})\n",
        "    else:\n",
        "        inch_search2 = re.search(model_expression, det)\n",
        "        if inch_search2:\n",
        "            gskillmodelnumbers.append(\n",
        "                {\"company\": \"gskill\", \"name\": name, \"model\": inch_search2.group(0)})\n",
        "        else:\n",
        "            gskillmodelnumbers.append(\n",
        "                {\"company\": \"gskill\", \"name\": name, \"model\": np.nan})\n",
        "\n",
        "# NOW CHECK\n",
        "\n",
        "gskillmodelnumbers = pd.DataFrame(gskillmodelnumbers)\n"
      ]
    },
    {
      "cell_type": "code",
      "execution_count": 65,
      "metadata": {
        "colab": {
          "base_uri": "https://localhost:8080/"
        },
        "id": "LwZORR4qZVvP",
        "outputId": "554bf526-5cec-4345-ffb9-e89e543355f0"
      },
      "outputs": [
        {
          "name": "stdout",
          "output_type": "stream",
          "text": [
            "   company                                               name  \\\n",
            "0   gskill  G.SKILL Aegis Series 32GB (4x8GB) 2133MHz DDR4...   \n",
            "1   gskill  G.Skill F4-2400C15S-16GVR Desktop Ram Ripjaws ...   \n",
            "2   gskill  G.Skill F4-2400C16S-16GRS Laptop Ram Ripjaws S...   \n",
            "3   gskill  G.Skill F4-2400C16S-4GRS Laptop Ram Ripjaws Se...   \n",
            "4   gskill  G.Skill F4-2400C16S-8GRS Laptop Ram Ripjaws Se...   \n",
            "..     ...                                                ...   \n",
            "73  gskill  G.Skill F4-4000C18D-16GTZRB Desktop Ram Triden...   \n",
            "74  gskill  G.Skill RIPJAWS V 16GB (8GBX2) DDR4 4000MHz Me...   \n",
            "75  gskill  G.SKILL F4-4000C19D-32GTZR Desktop Ram Trident...   \n",
            "76  gskill  G.Skill TRIDENT Z 16GB (8GBX2) DDR4 4133MHz RG...   \n",
            "77  gskill  G.Skill F4-4266C19D-16GTZR Desktop Ram Trident...   \n",
            "\n",
            "                   model  \n",
            "0      F4-2133C15Q-32GIS  \n",
            "1     F4-2400C15S-16GVR   \n",
            "2     F4-2400C16S-16GRS   \n",
            "3      F4-2400C16S-4GRS   \n",
            "4      F4-2400C16S-8GRS   \n",
            "..                   ...  \n",
            "73  F4-4000C18D-16GTZRB   \n",
            "74                   NaN  \n",
            "75   F4-4000C19D-32GTZR   \n",
            "76   F4-4133C19D-16GTZKW  \n",
            "77   F4-4266C19D-16GTZR   \n",
            "\n",
            "[78 rows x 3 columns]\n"
          ]
        }
      ],
      "source": [
        "print(gskillmodelnumbers)\n"
      ]
    },
    {
      "cell_type": "code",
      "execution_count": 66,
      "metadata": {
        "id": "dX40mJd5aa-R"
      },
      "outputs": [],
      "source": [
        "# EXTRACTED MODEL NUMBERS FOR antec\n",
        "expression = '(?i)(antec) '\n",
        "anteclist_name = []\n",
        "anteclist_det = []\n",
        "for name in names:\n",
        "    inch_search = re.search(expression, name)\n",
        "    if inch_search:\n",
        "        anteclist_name.append(name)\n",
        "\n",
        "for det in details:\n",
        "    inch_search = re.search(expression, det)\n",
        "    if inch_search:\n",
        "        anteclist_det.append(det)\n",
        "\n",
        "anteclist = pd.concat(\n",
        "    [pd.Series(anteclist_name), pd.Series(anteclist_det)], axis=1)\n",
        "antecmodelnumbers = []\n",
        "# now we have to find modorcair\n",
        "model_expression = '(AM)[A-Za-z0-9-]*( )?'\n",
        "for name, det in anteclist.itertuples(index=False):\n",
        "    inch_search = re.search(model_expression, name)\n",
        "    if inch_search:\n",
        "        antecmodelnumbers.append(\n",
        "            {\"company\": \"antec\", \"name\": name, \"model\": inch_search.group(0)})\n",
        "    else:\n",
        "        inch_search2 = re.search(model_expression, det)\n",
        "        if inch_search2:\n",
        "            antecmodelnumbers.append(\n",
        "                {\"company\": \"antec\", \"name\": name, \"model\": inch_search2.group(0)})\n",
        "        else:\n",
        "            antecmodelnumbers.append(\n",
        "                {\"company\": \"antec\", \"name\": name, \"model\": np.nan})\n",
        "\n",
        "# NOW CHECK\n",
        "antecmodelnumbers = pd.DataFrame(antecmodelnumbers)\n"
      ]
    },
    {
      "cell_type": "code",
      "execution_count": 67,
      "metadata": {
        "id": "O6-LWzL5bmao"
      },
      "outputs": [],
      "source": [
        "# EXTRACTED MODEL NUMBERS FOR gigabyte\n",
        "expression = '(?i)(gigabyte) '\n",
        "gigabytelist_name = []\n",
        "gigabytelist_det = []\n",
        "for name in names:\n",
        "    inch_search = re.search(expression, name)\n",
        "    if inch_search:\n",
        "        gigabytelist_name.append(name)\n",
        "\n",
        "for det in details:\n",
        "    inch_search = re.search(expression, det)\n",
        "    if inch_search:\n",
        "        gigabytelist_det.append(det)\n",
        "\n",
        "gigabytelist = pd.concat(\n",
        "    [pd.Series(gigabytelist_name), pd.Series(gigabytelist_det)], axis=1)\n",
        "gigabytemodelnumbers = []\n",
        "# now we have to find modorcair\n",
        "model_expression = '(GP-)[A-Za-z0-9-]*( )?'\n",
        "for name, det in gigabytelist.itertuples(index=False):\n",
        "    inch_search = re.search(model_expression, name)\n",
        "    if inch_search:\n",
        "        gigabytemodelnumbers.append(\n",
        "            {\"company\": \"gigabyte\", \"name\": name, \"model\": inch_search.group(0)})\n",
        "    else:\n",
        "        inch_search2 = re.search(model_expression, det)\n",
        "        if inch_search2:\n",
        "            gigabytemodelnumbers.append(\n",
        "                {\"company\": \"gigabyte\", \"name\": name, \"model\": inch_search2.group(0)})\n",
        "        else:\n",
        "            print(name)\n",
        "\n",
        "# NOW CHECK\n",
        "gigabytemodelnumbers = pd.DataFrame(gigabytemodelnumbers)\n"
      ]
    },
    {
      "cell_type": "code",
      "execution_count": 68,
      "metadata": {
        "colab": {
          "base_uri": "https://localhost:8080/"
        },
        "id": "92g_va4mcdqR",
        "outputId": "b1398177-1341-4a0d-b89e-96b403183fdd"
      },
      "outputs": [
        {
          "name": "stdout",
          "output_type": "stream",
          "text": [
            "    company                                               name  \\\n",
            "0  gigabyte  GIGABYTE GP-AR32C16S8K2HU416R Desktop Ram 16GB...   \n",
            "1  gigabyte  Gigabyte GP-AR36C18S8K2HU416R Desktop Ram Aoru...   \n",
            "2  gigabyte  Gigabyte AORUS RGB 16GB (8GBx2) DDR4 4400MHz (...   \n",
            "\n",
            "                   model  \n",
            "0  GP-AR32C16S8K2HU416R   \n",
            "1  GP-AR36C18S8K2HU416R   \n",
            "2            GP-ARS16G44  \n"
          ]
        }
      ],
      "source": [
        "print(gigabytemodelnumbers)\n"
      ]
    },
    {
      "cell_type": "code",
      "execution_count": 83,
      "metadata": {
        "id": "pCxW1lbFclJB"
      },
      "outputs": [],
      "source": [
        "# Remaining\n",
        "remainingmodelnumbers = pd.DataFrame(\n",
        "    [{\"company\": \"Thermaltake\", \"name\": \"Thermaltake Desktop WaterRam RGB Liquid Cooling Memory 16GB (8GBx2) DDR4 3200MHz\", \"model\": np.nan}])\n"
      ]
    },
    {
      "cell_type": "code",
      "execution_count": 98,
      "metadata": {
        "id": "ZApltphodUya"
      },
      "outputs": [],
      "source": [
        "result = pd.concat([gigabytemodelnumbers, antecmodelnumbers, gskillmodelnumbers,\n",
        "                   corcairmodelnumbers, crucialmodelnumbers, adatamodelnumbers], ignore_index=True)\n",
        "size = []\n",
        "freq = []\n",
        "# Iterate over result and add size and frequency\n",
        "size_expression = '[0-9]{1,2}( )?GB( )?'\n",
        "freq_expression = '[0-9]{4}( )?(?i)MHz( )?'\n",
        "for ind in result.index:\n",
        "    sizesearch = re.search(size_expression, result['name'][ind])\n",
        "    freqsearch = re.search(freq_expression, result['name'][ind])\n",
        "    if sizesearch:\n",
        "        size.append(sizesearch.group(0))\n",
        "    else:\n",
        "        size.append(np.nan)\n",
        "    if freqsearch:\n",
        "        freq.append(freqsearch.group(0))\n",
        "    else:\n",
        "        freq.append(np.nan)\n",
        "result['Size'] = size\n",
        "result['Frequency'] = freq\n",
        "result.to_csv('Memory_models.csv')\n"
      ]
    },
    {
      "cell_type": "code",
      "execution_count": null,
      "metadata": {
        "id": "QxtjB-jVzH6b"
      },
      "outputs": [],
      "source": [
        "print(result)\n"
      ]
    },
    {
      "cell_type": "code",
      "execution_count": 71,
      "metadata": {
        "id": "OpuwVNKTzTgS"
      },
      "outputs": [],
      "source": []
    }
  ],
  "metadata": {
    "colab": {
      "include_colab_link": true,
      "provenance": []
    },
    "kernelspec": {
      "display_name": "Python 3.9 (tensorflow)",
      "language": "python",
      "name": "tensorflow"
    },
    "language_info": {
      "codemirror_mode": {
        "name": "ipython",
        "version": 3
      },
      "file_extension": ".py",
      "mimetype": "text/x-python",
      "name": "python",
      "nbconvert_exporter": "python",
      "pygments_lexer": "ipython3",
      "version": "3.9.15"
    },
    "vscode": {
      "interpreter": {
        "hash": "5c7b89af1651d0b8571dde13640ecdccf7d5a6204171d6ab33e7c296e100e08a"
      }
    }
  },
  "nbformat": 4,
  "nbformat_minor": 0
}
