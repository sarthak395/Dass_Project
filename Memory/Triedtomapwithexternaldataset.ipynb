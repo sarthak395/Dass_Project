{
  "nbformat": 4,
  "nbformat_minor": 0,
  "metadata": {
    "colab": {
      "provenance": []
    },
    "kernelspec": {
      "name": "python3",
      "display_name": "Python 3"
    },
    "language_info": {
      "name": "python"
    }
  },
  "cells": [
    {
      "cell_type": "code",
      "execution_count": 1,
      "metadata": {
        "id": "mZaL6XstgUHQ"
      },
      "outputs": [],
      "source": [
        "import pandas as pd\n",
        "import re\n",
        "import numpy as np"
      ]
    },
    {
      "cell_type": "code",
      "source": [
        "# LOADING DATA\n",
        "inputmemorydata = pd.read_csv('Memory_models.csv')\n",
        "enhancedmemorydata = pd.read_csv('DDR4_RAM_benchmark_v3.csv')"
      ],
      "metadata": {
        "id": "nRG5dEO-hRKh"
      },
      "execution_count": 2,
      "outputs": []
    },
    {
      "cell_type": "code",
      "source": [
        "print(inputmemorydata)"
      ],
      "metadata": {
        "id": "kdac9GHihhdZ"
      },
      "execution_count": null,
      "outputs": []
    },
    {
      "cell_type": "code",
      "source": [
        "# Enhancing for ADATA\n",
        "adatainput = inputmemorydata[inputmemorydata['company'] == 'adata']\n",
        "\n",
        "expression = '(A-DATA) '\n",
        "enhancedmemorydata_adata = []\n",
        "for ind in enhancedmemorydata.index:\n",
        "    comp_search = re.search(expression, enhancedmemorydata['Memory Name'][ind]);\n",
        "    if comp_search:\n",
        "      spacesplit = enhancedmemorydata['Memory Name'][ind].split(\" \")\n",
        "      modelnumber = spacesplit[2].split('-')[0];\n",
        "      if(modelnumber != \"DDR4\"):\n",
        "        enhancedmemorydata_adata.append({\"Company\":'adata',\"Memory Model\":modelnumber , \"Latency (ns)\":enhancedmemorydata['Latency (ns)'][ind],\"Read Uncached (GB/s)\":enhancedmemorydata['Read Uncached (GB/s)'][ind] , \"Write (GB/s)\":enhancedmemorydata['Write (GB/s)'][ind]});\n",
        "    \n",
        "  \n",
        "  \n",
        "enhancedmemorydata_adata = pd.DataFrame(enhancedmemorydata_adata);\n",
        "\n"
      ],
      "metadata": {
        "id": "XoYWbvg8hksF"
      },
      "execution_count": null,
      "outputs": []
    },
    {
      "cell_type": "code",
      "source": [],
      "metadata": {
        "id": "drI1qT15iDmD"
      },
      "execution_count": null,
      "outputs": []
    }
  ]
}