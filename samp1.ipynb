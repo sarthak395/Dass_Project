{
  "nbformat": 4,
  "nbformat_minor": 0,
  "metadata": {
    "colab": {
      "provenance": [],
      "mount_file_id": "1BeuwLXdasRRws_fQfyOOcZOjhLZDEDeX",
      "authorship_tag": "ABX9TyMR5enGaw3vG9HCjBpx89+x",
      "include_colab_link": true
    },
    "kernelspec": {
      "name": "python3",
      "display_name": "Python 3"
    },
    "language_info": {
      "name": "python"
    }
  },
  "cells": [
    {
      "cell_type": "markdown",
      "metadata": {
        "id": "view-in-github",
        "colab_type": "text"
      },
      "source": [
        "<a href=\"https://colab.research.google.com/github/sarthak395/Dass_Project/blob/main/samp1.ipynb\" target=\"_parent\"><img src=\"https://colab.research.google.com/assets/colab-badge.svg\" alt=\"Open In Colab\"/></a>"
      ]
    },
    {
      "cell_type": "code",
      "execution_count": 1,
      "metadata": {
        "id": "i_TqyEQGVmcv"
      },
      "outputs": [],
      "source": [
        "import pandas as pd\n",
        "import re"
      ]
    },
    {
      "cell_type": "code",
      "source": [
        "# LOADING DATA\n",
        "data = pd.read_csv('monitor.csv')\n",
        "names = data['Name'];\n",
        "details = data['Details']\n",
        "print(names)"
      ],
      "metadata": {
        "id": "Wi7kfMpqVsb3"
      },
      "execution_count": null,
      "outputs": []
    },
    {
      "cell_type": "code",
      "source": [
        "# GETTING INCH SIZE\n",
        "expression = '(([0-9]+)*(\\.)*([0-9]+))([\\-]{0,1})([\\s]{0,1})(?i)inch'\n",
        "incheslist = [];\n",
        "\n",
        "for ind in data.index:\n",
        "  # print(data['Name'][ind])\n",
        "  data['Name'][ind] = re.sub(r'â€³', '', data['Name'][ind]) \n",
        "  data['Details'][ind] = re.sub(r'â€³', '', data['Details'][ind])\n",
        "\n",
        "  data['Name'][ind] = re.sub('â€', '', data['Name'][ind]) \n",
        "  data['Details'][ind] = re.sub('â€', '', data['Details'][ind])\n",
        "\n",
        "  inch_search = re.search(expression, data['Name'][ind]);\n",
        "  if not inch_search:\n",
        "    inch2_search = re.search(expression, data['Details'][ind]);\n",
        "    if inch2_search:\n",
        "      incheslist.append(inch2_search.group(1));\n",
        "      print(\"Found in details \",inch2_search.group(1));\n",
        "    else:\n",
        "      expr2 = ' (([0-9]+)*(\\.)*([0-9]+))([\\-]{0,1})([\\s]{0,1}) '\n",
        "      inch3_search = re.search(expr2, data['Name'][ind]);\n",
        "      if(inch3_search):\n",
        "        incheslist.append(inch3_search.group(1));\n",
        "      else:\n",
        "        inch4_search = re.search(expr2, data['Details'][ind]);\n",
        "        if(inch4_search):\n",
        "          incheslist.append(inch4_search.group(1));\n",
        "        else:\n",
        "          incheslist.append(None);\n",
        "  else:\n",
        "    incheslist.append(inch_search.group(1))\n",
        "\n",
        "incheslist = pd.Series(incheslist)\n",
        "data['inches'] = incheslist"
      ],
      "metadata": {
        "id": "oCJ0pf0IWGqc"
      },
      "execution_count": null,
      "outputs": []
    },
    {
      "cell_type": "code",
      "source": [
        "for inches in data['inches']:\n",
        "  if not inches:\n",
        "    print(inches)"
      ],
      "metadata": {
        "id": "Z8_ILUZVa_1O"
      },
      "execution_count": null,
      "outputs": []
    },
    {
      "cell_type": "code",
      "source": [
        "# EXTRACTED MODEL NUMBERS FOR LG\n",
        "expression = 'LG '\n",
        "lglist = [];\n",
        "for name in names:\n",
        "  inch_search = re.search(expression, name);\n",
        "  if inch_search:\n",
        "    lglist.append(name);\n",
        "\n",
        "lglist = pd.Series(lglist)\n",
        "lgmodelnumbers = []\n",
        "# now we have to find model no.\n",
        "model_expression = '\\d{2}[MUBG][A-Za-z0-9]*(-B)?'\n",
        "for name in lglist:\n",
        "  inch_search = re.search(model_expression,name);\n",
        "  if inch_search:\n",
        "    lgmodelnumbers.append(inch_search.group(0))\n",
        "  else:\n",
        "    print(name)\n",
        "\n",
        "lgmodelnumbers = pd.Series(lgmodelnumbers);"
      ],
      "metadata": {
        "id": "umySWsOJyuWr"
      },
      "execution_count": 29,
      "outputs": []
    }
  ]
}