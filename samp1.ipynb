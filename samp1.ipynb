{
  "nbformat": 4,
  "nbformat_minor": 0,
  "metadata": {
    "colab": {
      "provenance": [],
      "mount_file_id": "1BeuwLXdasRRws_fQfyOOcZOjhLZDEDeX",
      "authorship_tag": "ABX9TyPXr+V7vWvhHp0knTBAvp6O",
      "include_colab_link": true
    },
    "kernelspec": {
      "name": "python3",
      "display_name": "Python 3"
    },
    "language_info": {
      "name": "python"
    }
  },
  "cells": [
    {
      "cell_type": "markdown",
      "metadata": {
        "id": "view-in-github",
        "colab_type": "text"
      },
      "source": [
        "<a href=\"https://colab.research.google.com/github/sarthak395/Dass_Project/blob/main/samp1.ipynb\" target=\"_parent\"><img src=\"https://colab.research.google.com/assets/colab-badge.svg\" alt=\"Open In Colab\"/></a>"
      ]
    },
    {
      "cell_type": "code",
      "execution_count": 1,
      "metadata": {
        "id": "i_TqyEQGVmcv"
      },
      "outputs": [],
      "source": [
        "import pandas as pd\n",
        "import re"
      ]
    },
    {
      "cell_type": "code",
      "source": [
        "# LOADING DATA\n",
        "data = pd.read_csv('monitor.csv')\n",
        "name = data['Name'];\n",
        "details = data['Details']\n",
        "name.head(10)"
      ],
      "metadata": {
        "colab": {
          "base_uri": "https://localhost:8080/"
        },
        "id": "Wi7kfMpqVsb3",
        "outputId": "b9c8c73f-515b-4cee-f212-e0f977b756db"
      },
      "execution_count": 2,
      "outputs": [
        {
          "output_type": "execute_result",
          "data": {
            "text/plain": [
              "0            LG 18.5 INCH LED GAMING MONITOR (19M38AB)\n",
              "1    LG 19M38HB - 19 Inch Monitor (5ms Response Tim...\n",
              "2    HP 24y - 24 Inch Monitor (8ms Response Time, F...\n",
              "3    LG 20M39H - 20 Inch Monitor (5ms Response Time...\n",
              "4    LG 22MK600M - 22 Inch Gaming Monitor (AMD Free...\n",
              "5    LG 22MP68VQ-P - 22 Inch Gaming Monitor (AMD Fr...\n",
              "6    LG 24inch 24BK750Y-B Full HD IPS Monitor Works...\n",
              "7    LG UltraGear 24GL600F-B - 24 Inch Gaming Monit...\n",
              "8    LG 24 inch Black FreeSync Gaming Monitor 24GM7...\n",
              "9    LG 24MK430H-B - 24 Inch Gaming Monitor (AMD Fr...\n",
              "Name: Name, dtype: object"
            ]
          },
          "metadata": {},
          "execution_count": 2
        }
      ]
    },
    {
      "cell_type": "code",
      "source": [
        "# GETTING INCH SIZE\n",
        "expression = '(([0-9]+)*(\\.)*([0-9]+))([\\-]{0,1})([\\s]{0,1})(?i)inch'\n",
        "incheslist = [];\n",
        "\n",
        "for ind in data.index:\n",
        "  # print(data['Name'][ind])\n",
        "  data['Name'][ind] = re.sub(r'â€³', '', data['Name'][ind]) \n",
        "  data['Details'][ind] = re.sub(r'â€³', '', data['Details'][ind])\n",
        "\n",
        "  data['Name'][ind] = re.sub('â€', '', data['Name'][ind]) \n",
        "  data['Details'][ind] = re.sub('â€', '', data['Details'][ind])\n",
        "\n",
        "  inch_search = re.search(expression, data['Name'][ind]);\n",
        "  if not inch_search:\n",
        "    inch2_search = re.search(expression, data['Details'][ind]);\n",
        "    if inch2_search:\n",
        "      incheslist.append(inch2_search.group(1));\n",
        "      print(\"Found in details \",inch2_search.group(1));\n",
        "    else:\n",
        "      expr2 = ' (([0-9]+)*(\\.)*([0-9]+))([\\-]{0,1})([\\s]{0,1}) '\n",
        "      inch3_search = re.search(expr2, data['Name'][ind]);\n",
        "      if(inch3_search):\n",
        "        incheslist.append(inch3_search.group(1));\n",
        "      else:\n",
        "        inch4_search = re.search(expr2, data['Details'][ind]);\n",
        "        if(inch4_search):\n",
        "          incheslist.append(inch4_search.group(1));\n",
        "        else:\n",
        "          incheslist.append(None);\n",
        "  else:\n",
        "    incheslist.append(inch_search.group(1))\n",
        "\n",
        "incheslist = pd.Series(incheslist)\n",
        "data['inches'] = incheslist"
      ],
      "metadata": {
        "colab": {
          "base_uri": "https://localhost:8080/"
        },
        "id": "oCJ0pf0IWGqc",
        "outputId": "be698a52-e8c6-4bdf-c80d-3362271a6d00"
      },
      "execution_count": 3,
      "outputs": [
        {
          "output_type": "stream",
          "name": "stderr",
          "text": [
            "<ipython-input-3-3e2dbbc13ab5>:7: SettingWithCopyWarning: \n",
            "A value is trying to be set on a copy of a slice from a DataFrame\n",
            "\n",
            "See the caveats in the documentation: https://pandas.pydata.org/pandas-docs/stable/user_guide/indexing.html#returning-a-view-versus-a-copy\n",
            "  data['Name'][ind] = re.sub(r'â€³', '', data['Name'][ind])\n",
            "<ipython-input-3-3e2dbbc13ab5>:8: SettingWithCopyWarning: \n",
            "A value is trying to be set on a copy of a slice from a DataFrame\n",
            "\n",
            "See the caveats in the documentation: https://pandas.pydata.org/pandas-docs/stable/user_guide/indexing.html#returning-a-view-versus-a-copy\n",
            "  data['Details'][ind] = re.sub(r'â€³', '', data['Details'][ind])\n",
            "<ipython-input-3-3e2dbbc13ab5>:10: SettingWithCopyWarning: \n",
            "A value is trying to be set on a copy of a slice from a DataFrame\n",
            "\n",
            "See the caveats in the documentation: https://pandas.pydata.org/pandas-docs/stable/user_guide/indexing.html#returning-a-view-versus-a-copy\n",
            "  data['Name'][ind] = re.sub('â€', '', data['Name'][ind])\n",
            "<ipython-input-3-3e2dbbc13ab5>:11: SettingWithCopyWarning: \n",
            "A value is trying to be set on a copy of a slice from a DataFrame\n",
            "\n",
            "See the caveats in the documentation: https://pandas.pydata.org/pandas-docs/stable/user_guide/indexing.html#returning-a-view-versus-a-copy\n",
            "  data['Details'][ind] = re.sub('â€', '', data['Details'][ind])\n",
            "<ipython-input-3-3e2dbbc13ab5>:13: DeprecationWarning: Flags not at the start of the expression '(([0-9]+)*(\\\\.)*([0-9' (truncated)\n",
            "  inch_search = re.search(expression, data['Name'][ind]);\n"
          ]
        }
      ]
    },
    {
      "cell_type": "code",
      "source": [
        "for inches in data['inches']:\n",
        "  if not inches:\n",
        "    print(inches)"
      ],
      "metadata": {
        "colab": {
          "base_uri": "https://localhost:8080/"
        },
        "id": "Z8_ILUZVa_1O",
        "outputId": "b6acaaec-d604-45c0-d0f6-aaef28face89"
      },
      "execution_count": 5,
      "outputs": [
        {
          "output_type": "stream",
          "name": "stdout",
          "text": [
            "None\n",
            "None\n",
            "None\n",
            "None\n"
          ]
        }
      ]
    },
    {
      "cell_type": "code",
      "source": [],
      "metadata": {
        "id": "umySWsOJyuWr"
      },
      "execution_count": null,
      "outputs": []
    }
  ]
}