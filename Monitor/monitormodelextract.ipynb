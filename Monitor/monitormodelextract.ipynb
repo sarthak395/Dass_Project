{
  "nbformat": 4,
  "nbformat_minor": 0,
  "metadata": {
    "colab": {
      "provenance": [],
      "mount_file_id": "1BeuwLXdasRRws_fQfyOOcZOjhLZDEDeX",
      "authorship_tag": "ABX9TyP4qIeR+g4QzTbxCqUtYamn",
      "include_colab_link": true
    },
    "kernelspec": {
      "name": "python3",
      "display_name": "Python 3"
    },
    "language_info": {
      "name": "python"
    }
  },
  "cells": [
    {
      "cell_type": "markdown",
      "metadata": {
        "id": "view-in-github",
        "colab_type": "text"
      },
      "source": [
        "<a href=\"https://colab.research.google.com/github/sarthak395/Dass_Project/blob/main/modelextract.ipynb\" target=\"_parent\"><img src=\"https://colab.research.google.com/assets/colab-badge.svg\" alt=\"Open In Colab\"/></a>"
      ]
    },
    {
      "cell_type": "code",
      "execution_count": 79,
      "metadata": {
        "id": "i_TqyEQGVmcv"
      },
      "outputs": [],
      "source": [
        "import pandas as pd\n",
        "import re"
      ]
    },
    {
      "cell_type": "code",
      "source": [
        "# LOADING DATA\n",
        "data = pd.read_csv('monitor.csv')\n",
        "names = data['Name'];\n",
        "details = data['Details']\n",
        "print(names)"
      ],
      "metadata": {
        "id": "Wi7kfMpqVsb3",
        "outputId": "0dd9991d-0ba5-4e80-8a76-a48d62fe63c6",
        "colab": {
          "base_uri": "https://localhost:8080/"
        }
      },
      "execution_count": 80,
      "outputs": [
        {
          "output_type": "stream",
          "name": "stdout",
          "text": [
            "0              LG 18.5 INCH LED GAMING MONITOR (19M38AB)\n",
            "1      LG 19M38HB - 19 Inch Monitor (5ms Response Tim...\n",
            "2      HP 24y - 24 Inch Monitor (8ms Response Time, F...\n",
            "3      LG 20M39H - 20 Inch Monitor (5ms Response Time...\n",
            "4      LG 22MK600M - 22 Inch Gaming Monitor (AMD Free...\n",
            "                             ...                        \n",
            "195                 GIGABYTE M27F 27 INCH GAMING MONITOR\n",
            "196                 GIGABYTE G27Q 27 INCH GAMING MONITOR\n",
            "197                 GIGABYTE M27Q 27 INCH GAMING MONITOR\n",
            "198    BenQ GL2780 - 27 Inch Eye-Care Monitor (1ms Re...\n",
            "199    Samsung LS24F350FHWXXL - 24 Inch Gaming Monito...\n",
            "Name: Name, Length: 200, dtype: object\n"
          ]
        }
      ]
    },
    {
      "cell_type": "code",
      "source": [
        "# GETTING INCH SIZE\n",
        "expression = '(([0-9]+)*(\\.)*([0-9]+))([\\-]{0,1})([\\s]{0,1})(?i)inch'\n",
        "incheslist = [];\n",
        "\n",
        "for ind in data.index:\n",
        "  # print(data['Name'][ind])\n",
        "  data['Name'][ind] = re.sub(r'â€³', '', data['Name'][ind]) \n",
        "  data['Details'][ind] = re.sub(r'â€³', '', data['Details'][ind])\n",
        "\n",
        "  data['Name'][ind] = re.sub('â€', '', data['Name'][ind]) \n",
        "  data['Details'][ind] = re.sub('â€', '', data['Details'][ind])\n",
        "\n",
        "  inch_search = re.search(expression, data['Name'][ind]);\n",
        "  if not inch_search:\n",
        "    inch2_search = re.search(expression, data['Details'][ind]);\n",
        "    if inch2_search:\n",
        "      incheslist.append(inch2_search.group(1));\n",
        "      print(\"Found in details \",inch2_search.group(1));\n",
        "    else:\n",
        "      expr2 = ' (([0-9]+)*(\\.)*([0-9]+))([\\-]{0,1})([\\s]{0,1}) '\n",
        "      inch3_search = re.search(expr2, data['Name'][ind]);\n",
        "      if(inch3_search):\n",
        "        incheslist.append(inch3_search.group(1));\n",
        "      else:\n",
        "        inch4_search = re.search(expr2, data['Details'][ind]);\n",
        "        if(inch4_search):\n",
        "          incheslist.append(inch4_search.group(1));\n",
        "        else:\n",
        "          incheslist.append(None);\n",
        "  else:\n",
        "    incheslist.append(inch_search.group(1))\n",
        "\n",
        "incheslist = pd.Series(incheslist)\n",
        "data['inches'] = incheslist"
      ],
      "metadata": {
        "id": "oCJ0pf0IWGqc",
        "outputId": "5ce48a02-9da4-4b70-a4fb-3d9020ac8862",
        "colab": {
          "base_uri": "https://localhost:8080/"
        }
      },
      "execution_count": 81,
      "outputs": [
        {
          "output_type": "stream",
          "name": "stderr",
          "text": [
            "<ipython-input-81-3e2dbbc13ab5>:7: SettingWithCopyWarning: \n",
            "A value is trying to be set on a copy of a slice from a DataFrame\n",
            "\n",
            "See the caveats in the documentation: https://pandas.pydata.org/pandas-docs/stable/user_guide/indexing.html#returning-a-view-versus-a-copy\n",
            "  data['Name'][ind] = re.sub(r'â€³', '', data['Name'][ind])\n",
            "<ipython-input-81-3e2dbbc13ab5>:8: SettingWithCopyWarning: \n",
            "A value is trying to be set on a copy of a slice from a DataFrame\n",
            "\n",
            "See the caveats in the documentation: https://pandas.pydata.org/pandas-docs/stable/user_guide/indexing.html#returning-a-view-versus-a-copy\n",
            "  data['Details'][ind] = re.sub(r'â€³', '', data['Details'][ind])\n",
            "<ipython-input-81-3e2dbbc13ab5>:10: SettingWithCopyWarning: \n",
            "A value is trying to be set on a copy of a slice from a DataFrame\n",
            "\n",
            "See the caveats in the documentation: https://pandas.pydata.org/pandas-docs/stable/user_guide/indexing.html#returning-a-view-versus-a-copy\n",
            "  data['Name'][ind] = re.sub('â€', '', data['Name'][ind])\n",
            "<ipython-input-81-3e2dbbc13ab5>:11: SettingWithCopyWarning: \n",
            "A value is trying to be set on a copy of a slice from a DataFrame\n",
            "\n",
            "See the caveats in the documentation: https://pandas.pydata.org/pandas-docs/stable/user_guide/indexing.html#returning-a-view-versus-a-copy\n",
            "  data['Details'][ind] = re.sub('â€', '', data['Details'][ind])\n"
          ]
        }
      ]
    },
    {
      "cell_type": "code",
      "source": [
        "for inches in data['inches']:\n",
        "  if not inches:\n",
        "    print(inches)"
      ],
      "metadata": {
        "id": "Z8_ILUZVa_1O",
        "outputId": "5d408a57-2533-4288-c6b1-63d6f0308c85",
        "colab": {
          "base_uri": "https://localhost:8080/"
        }
      },
      "execution_count": 82,
      "outputs": [
        {
          "output_type": "stream",
          "name": "stdout",
          "text": [
            "None\n",
            "None\n",
            "None\n",
            "None\n"
          ]
        }
      ]
    },
    {
      "cell_type": "code",
      "source": [
        "# EXTRACTED MODEL NUMBERS FOR LG\n",
        "expression = 'LG '\n",
        "lglist = [];\n",
        "for name in names:\n",
        "  inch_search = re.search(expression, name);\n",
        "  if inch_search:\n",
        "    lglist.append(name);\n",
        "\n",
        "lglist = pd.Series(lglist)\n",
        "lgmodelnumbers = []\n",
        "# now we have to find model no.\n",
        "model_expression = '\\d{2}[MUBG][A-Za-z0-9]*(-B)?'\n",
        "for name in lglist:\n",
        "  inch_search = re.search(model_expression,name);\n",
        "  if inch_search:\n",
        "    lgmodelnumbers.append({\"company\":\"LG\",\"name\":name , \"model\" : inch_search.group(0)})\n",
        "  else:\n",
        "    print(name)\n",
        "\n",
        "lgmodelnumbers = pd.DataFrame(lgmodelnumbers);"
      ],
      "metadata": {
        "id": "umySWsOJyuWr"
      },
      "execution_count": 83,
      "outputs": []
    },
    {
      "cell_type": "code",
      "source": [
        "#EXTRACTED MODEL NUMBERS FOR HP\n",
        "expression = 'HP '\n",
        "hplist = [];\n",
        "for name in names:\n",
        "  inch_search = re.search(expression, name);\n",
        "  if inch_search:\n",
        "    hplist.append(name);\n",
        "\n",
        "hplist = pd.Series(hplist)\n",
        "hpmodelnumbers = []\n",
        "# now we have to find model no.\n",
        "model_expression = '(HP) (V?\\d{1,2}[A-Za-z0-9]*) '\n",
        "for name in hplist:\n",
        "  inch_search = re.search(model_expression,name);\n",
        "  if inch_search:\n",
        "    hpmodelnumbers.append({\"company\":\"HP\",\"name\":name , \"model\" : inch_search.group(2)})\n",
        "  else:\n",
        "    print(name)\n",
        "\n",
        "hpmodelnumbers = pd.DataFrame(hpmodelnumbers);"
      ],
      "metadata": {
        "id": "zQJf-4_A77rI"
      },
      "execution_count": 84,
      "outputs": []
    },
    {
      "cell_type": "code",
      "source": [
        "# EXTRACTING MODEL NUMBER FOR SAMSUNG\n",
        "expression = '(?i)samsung '\n",
        "samlist = [];\n",
        "for name in names:\n",
        "  inch_search = re.search(expression, name);\n",
        "  if inch_search:\n",
        "    samlist.append(name);\n",
        "\n",
        "\n",
        "samlist = pd.Series(samlist)\n",
        "sammodelnumbers = []\n",
        "# now we have to find model no.\n",
        "model_expression = '(LC|LF|LS|LU)\\w*(WXXL)?'\n",
        "for name in samlist:\n",
        "  inch_search = re.search(model_expression,name);\n",
        "  if inch_search:\n",
        "    sammodelnumbers.append({\"company\":\"Samsung\",\"name\":name , \"model\" : inch_search.group(0)})\n",
        "  else:\n",
        "    print(name)\n",
        "\n",
        "# ONLY CASE WHERE MODEL NUMBER WAS IN DETAILS\n",
        "sammodelnumbers.append({\"company\":\"Samsung\",\"name\":\"SAMSUNG 27 INCH CURVED FULL HD 1800R LED MONITOR\" , \"model\":\"LC27F591FDWXXL\"})\n",
        "\n",
        "sammodelnumbers = pd.DataFrame(sammodelnumbers);"
      ],
      "metadata": {
        "colab": {
          "base_uri": "https://localhost:8080/"
        },
        "id": "bX1ttmS--aUo",
        "outputId": "79e48c70-13bf-4586-dd58-f829574fea2a"
      },
      "execution_count": 85,
      "outputs": [
        {
          "output_type": "stream",
          "name": "stdout",
          "text": [
            "SAMSUNG 27 INCH CURVED FULL HD 1800R LED MONITOR\n"
          ]
        }
      ]
    },
    {
      "cell_type": "code",
      "source": [
        "# EXTRACTING MODEL NUMBERS FOR ACER\n",
        "expression = '(?i)acer '\n",
        "acerlist = [];\n",
        "for name in names:\n",
        "  inch_search = re.search(expression, name);\n",
        "  if inch_search:\n",
        "    acerlist.append(name);\n",
        "\n",
        "\n",
        "acerlist = pd.Series(acerlist)\n",
        "acermodelnumbers = []\n",
        "# now we have to find model no.\n",
        "model_expression = '((?i)acer) (((?i)(nitro|aopen) )?[A-Za-z]+[\\d+][A-Za-z0-9]*) '\n",
        "for name in acerlist:\n",
        "  inch_search = re.search(model_expression,name);\n",
        "  if inch_search:\n",
        "    acermodelnumbers.append({\"company\":\"Acer\",\"name\":name , \"model\" : inch_search.group(2)})\n",
        "  else:\n",
        "    print(name)\n",
        "\n",
        "acermodelnumbers = pd.DataFrame(acermodelnumbers);"
      ],
      "metadata": {
        "colab": {
          "base_uri": "https://localhost:8080/"
        },
        "id": "_Vc07Cz--dHw",
        "outputId": "b3b4a222-8417-4b32-a4ee-8e165ef0f394"
      },
      "execution_count": 86,
      "outputs": [
        {
          "output_type": "stream",
          "name": "stdout",
          "text": [
            "Acer Aopen 27HC1R - 27 Inch Curved Gaming Monitor (1800R Curved, AMD FreeSync, 4ms Response Time, 144Hz Refresh Rate, Frameless, FHD VA Panel, DVI, HDMI, DisplayPort)\n",
            "Acer 24 Inch KG241QS AMD FreeSync 0.5ms Response Time 165Hz Refresh Rate Gaming Monitor\n",
            "ACER NITRO VG 24 INCH FULL HD VG240YPBIIP GAMING MONITOR\n",
            "Acer Predator XB271HU - 27 Inch Gaming Monitor (Nvidia G-Sync, 4Ms Response Time, 144Hz Refresh Rate, 2K WQHD IPS Panel, HDMI, DisplayPort, Speakers)\n"
          ]
        }
      ]
    },
    {
      "cell_type": "code",
      "source": [
        "print(acermodelnumbers)"
      ],
      "metadata": {
        "id": "B02ryOVeHJam",
        "outputId": "70f6239b-b9a3-4da1-ef14-0b9b9eed5529",
        "colab": {
          "base_uri": "https://localhost:8080/"
        }
      },
      "execution_count": 87,
      "outputs": [
        {
          "output_type": "stream",
          "name": "stdout",
          "text": [
            "   company                                               name          model\n",
            "0     Acer  Acer CB271HK - 27 Inch 100% sRGB Gaming Monito...        CB271HK\n",
            "1     Acer  Acer EB321HQ - 32 Inch Monitor (4ms Response T...        EB321HQ\n",
            "2     Acer  Acer ED322Q 32 Inch Curved Gaming Monitor (4ms...         ED322Q\n",
            "3     Acer  Acer ET221Q - 22 Inch Monitor (4ms Response Ti...         ET221Q\n",
            "4     Acer  Acer ET271 - 27 Inch Monitor (4ms Response Tim...          ET271\n",
            "5     Acer  Acer ET322QK 32 Inch Gaming Monitor (AMD FreeS...        ET322QK\n",
            "6     Acer  Acer GN246HL 24 Inch 3D Gaming Monitor (1ms Re...        GN246HL\n",
            "7     Acer  Acer K222HQL - 22 Inch Monitor (5ms Response T...        K222HQL\n",
            "8     Acer  ACER KA220HQ 22 Inch Monitor (5ms Response Tim...        KA220HQ\n",
            "9     Acer  Acer KA240H 24 Inch Monitor (5ms Response Time...         KA240H\n",
            "10    Acer  Acer KG271 - 27 Inch Gaming Monitor (AMD FreeS...          KG271\n",
            "11    Acer  Acer KG271C - 27 Inch Gaming Monitor (AMD Free...         KG271C\n",
            "12    Acer  ACER KG281K “ 28 Inch Gaming Monitor (Amd Free...         KG281K\n",
            "13    Acer  Acer Nitro QG221Q 22 Inch Gaming Monitor (AMD ...   Nitro QG221Q\n",
            "14    Acer  Acer S271HL H - 27 Inch Monitor (1ms Response ...         S271HL\n",
            "15    Acer                       Acer NITRO VG0 VG270 27 Inch      NITRO VG0\n",
            "16    Acer  Acer KG1 27 inch 144 Hz Gaming Monitor KG271C ...            KG1\n",
            "17    Acer  Acer ED242QR 24 Inch Curved Gaming Monitor (18...        ED242QR\n",
            "18    Acer  Acer Nitro VG240P 144Hz Full HD IPS Gaming Mon...   Nitro VG240P\n",
            "19    Acer  Acer VG240Y - 24 Inch Gaming Monitor (AMD Free...         VG240Y\n",
            "20    Acer  Acer Nitro VG270P IPS 27 inch 144Hz Free Sync ...   Nitro VG270P\n",
            "21    Acer  Acer VG271U 27 Inch 100% sRGB Gaming Monitor (...         VG271U\n",
            "22    Acer  Acer KG271 - 27 Inch Gaming Monitor (AMD FreeS...          KG271\n",
            "23    Acer  Acer ED273UR P - 27 Inch Curved Gaming Monitor...        ED273UR\n",
            "24    Acer  Acer EK240Y - 24 Inch Monitor (5ms Response Ti...         EK240Y\n",
            "25    Acer  Acer RT240Y - 24 Inch Monitor (4ms Response Ti...         RT240Y\n",
            "26    Acer  Acer SA240Y - 24 Inch Monitor (4ms Response Ti...         SA240Y\n",
            "27    Acer  Acer ED273 - 27 Inch Curved Gaming Monitor (4m...          ED273\n",
            "28    Acer  Acer Nitro QG271 - 27 Inch Gaming Monitor (AMD...    Nitro QG271\n",
            "29    Acer        ACER NITRO VG240YS 165HZ IPS GAMING MONITOR  NITRO VG240YS\n",
            "30    Acer  Acer B247Y Dbmiprczx - 24 Inch Gaming Monitor ...          B247Y\n",
            "31    Acer  Acer Nitro XV270 Pbmiiprx - 27 Inch Gaming Mon...    Nitro XV270\n"
          ]
        }
      ]
    },
    {
      "cell_type": "code",
      "source": [
        "# EXTRACTING MODEL NUMBERS FOR Dell\n",
        "expression = '(?i)dell '\n",
        "delllist = [];\n",
        "for name in names:\n",
        "  inch_search = re.search(expression, name);\n",
        "  if inch_search:\n",
        "    delllist.append(name);\n",
        "\n",
        "delllist = pd.Series(delllist)\n",
        "dellmodelnumbers = []\n",
        "# now we have to find model no.\n",
        "model_expression = ' (D|E|P|SE|U)[0-9]*[A-Z0-9]* '\n",
        "for name in delllist:\n",
        "  inch_search = re.search(model_expression,name);\n",
        "  if inch_search:\n",
        "    dellmodelnumbers.append({\"company\":\"Dell\",\"name\":name , \"model\" : inch_search.group(0)})\n",
        "  else:\n",
        "    print(name)\n",
        "\n",
        "dellmodelnumbers = pd.DataFrame(dellmodelnumbers);"
      ],
      "metadata": {
        "id": "gZ1wMA7zKto7"
      },
      "execution_count": 88,
      "outputs": []
    },
    {
      "cell_type": "code",
      "source": [
        "print(dellmodelnumbers)"
      ],
      "metadata": {
        "id": "ShyNOOznLxrP",
        "outputId": "61201463-f37a-444d-b020-b98e4501f5a1",
        "colab": {
          "base_uri": "https://localhost:8080/"
        }
      },
      "execution_count": 89,
      "outputs": [
        {
          "output_type": "stream",
          "name": "stdout",
          "text": [
            "   company                                               name       model\n",
            "0     Dell  Dell D1918H - 19 Inch Monitor (5ms Responce Ti...     D1918H \n",
            "1     Dell         Dell E1715S 17 LED Backlit 5:4 LCD Monitor     E1715S \n",
            "2     Dell            DELL E2016HV 20 INCH LCD GAMING MONITOR    E2016HV \n",
            "3     Dell  Dell E2216HV - 22 Inch Monitor (5ms Response T...    E2216HV \n",
            "4     Dell  Dell E2218HN - 22 Inch Monitor (5ms Response T...    E2218HN \n",
            "5     Dell  Dell E2218HN 22 Inch 5ms Response Time FHD TN ...    E2218HN \n",
            "6     Dell  Dell E2219HN - 22 Inch Monitor (14ms Response ...    E2219HN \n",
            "7     Dell  Dell P2419HC 23.8 16:9 Ultrathin Bezel IPS Mon...    P2419HC \n",
            "8     Dell  Dell SE2219HX - 22 Inch Monitor (8ms Response ...   SE2219HX \n",
            "9     Dell  Dell SE2419H 24 inch FHD IPS Monitor For Work ...    SE2419H \n",
            "10    Dell  Dell SE2719H - 27 Inch Monitor (5ms Response T...    SE2719H \n",
            "11    Dell  Dell U2415 Black 24.1 inch 6ms (GTG) Dual HDMI...      U2415 \n",
            "12    Dell  DELL U2419H 24 INCH 99% SRGB MONITOR (5MS RESP...     U2419H \n",
            "13    Dell  Dell UltraSharp U2412M 24 Inch Screen LED Monitor     U2412M \n"
          ]
        }
      ]
    },
    {
      "cell_type": "code",
      "source": [
        "# EXTRACTED MODEL NUMBERS FOR BENQ\n",
        "expression = '(?i)benq '\n",
        "benqlist = [];\n",
        "for name in names:\n",
        "  inch_search = re.search(expression, name);\n",
        "  if inch_search:\n",
        "    benqlist.append(name);\n",
        "\n",
        "benqlist = pd.Series(benqlist)\n",
        "benqmodelnumbers = []\n",
        "# now we have to find model no.\n",
        "model_expression = ' (PD|BL|EL|EW|EX|GW|PV|SW|XL|GL)[A-Z0-9]*'\n",
        "for name in benqlist:\n",
        "  inch_search = re.search(model_expression,name);\n",
        "  if inch_search:\n",
        "    benqmodelnumbers.append({\"company\":\"Benq\",\"name\":name , \"model\" : inch_search.group(0)})\n",
        "  else:\n",
        "    print(name)\n",
        "\n",
        "benqmodelnumbers = pd.DataFrame(benqmodelnumbers);"
      ],
      "metadata": {
        "id": "p_lzp3r6NHQk"
      },
      "execution_count": 90,
      "outputs": []
    },
    {
      "cell_type": "code",
      "source": [
        "print(benqmodelnumbers)"
      ],
      "metadata": {
        "id": "9qfrQQQNNlsq",
        "outputId": "f214aca2-8aca-4798-cce7-32a767b1496e",
        "colab": {
          "base_uri": "https://localhost:8080/"
        }
      },
      "execution_count": 91,
      "outputs": [
        {
          "output_type": "stream",
          "name": "stdout",
          "text": [
            "   company                                               name      model\n",
            "0     Benq  BenQ BL2420PT - 24 Inch 100% sRGB Designer Mon...   BL2420PT\n",
            "1     Benq  BenQ EL2870U - 28 Inch Gaming Monitor (AMD Fre...    EL2870U\n",
            "2     Benq  BenQ EW2480 - 24 Inch Gaming Monitor (AMD Free...     EW2480\n",
            "3     Benq  BenQ EW2780 - 27 Inch Video Enjoyment Monitor ...     EW2780\n",
            "4     Benq  BenQ EW2780Q - 27 Inch Video Enjoyment Monitor...    EW2780Q\n",
            "5     Benq  BenQ EW3270U - 32 Inch Video Enjoyment Monitor...    EW3270U\n",
            "6     Benq  BenQ EW3280U - 32 Inch Gaming Monitor (AMD Fre...    EW3280U\n",
            "7     Benq  BenQ MOBIUZ EX2510 - 25 Inch Gaming Monitor (A...     EX2510\n",
            "8     Benq  BenQ EX2780Q - 27 Inch Gaming Monitor (AMD Fre...    EX2780Q\n",
            "9     Benq   BENQ GW2283 22 Inch FHD Frameless Monitor GW2283     GW2283\n",
            "10    Benq  BenQ GW2480 - 24 Inch Stylish Monitor (5ms Res...     GW2480\n",
            "11    Benq  BenQ GW2480T - 24 Inch Stylish Monitor (5ms Re...    GW2480T\n",
            "12    Benq  BenQ GW2780 - 27 Inch Stylish Monitor (5ms Res...     GW2780\n",
            "13    Benq  BenQ GW2780T - 27 Inch Eye-Care Monitor (5ms R...    GW2780T\n",
            "14    Benq  BenQ PD2500Q - 25 Inch 100% sRGB Designer Moni...    PD2500Q\n",
            "15    Benq  BenQ PD2700Q - 27 Inch 100% sRGB Designer Moni...    PD2700Q\n",
            "16    Benq  BenQ PD2700U - 27 Inch 100% sRGB Designer Moni...    PD2700U\n",
            "17    Benq  BenQ PD3200Q - 32 Inch 100% sRGB Designer Moni...    PD3200Q\n",
            "18    Benq  Benq 32 inch DesignVue Designer Monitor with 4...    PD3200U\n",
            "19    Benq  BenQ PD3220U DesignVue Designer 31.5 16:9 HDR ...    PD3220U\n",
            "20    Benq  BenQ PV270 - 27 Inch 100% sRGB Video Post-Prod...      PV270\n",
            "21    Benq  BenQ SW240 - 24 Inch 100% sRGB Photographer Mo...      SW240\n",
            "22    Benq  BenQ SW2700PT - 27 Inch 100% sRGB Photographer...   SW2700PT\n",
            "23    Benq  BenQ SW270C - 27 Inch 100% sRGB Photo Editing ...     SW270C\n",
            "24    Benq  BenQ Zowie XL2411K - 24 Inch Gaming Monitor (1...    XL2411K\n",
            "25    Benq  BenQ Zowie XL2411P - 24 Inch e-Sports Gaming M...    XL2411P\n",
            "26    Benq  BenQ Zowie XL2546 - 25 Inch e-Sports Gaming Mo...     XL2546\n",
            "27    Benq  BenQ Zowie XL2546K - 25 Inch Gaming Monitor (0...    XL2546K\n",
            "28    Benq  BenQ Zowie XL2720 - 27 Inch e-Sports Gaming Mo...     XL2720\n",
            "29    Benq  BenQ Zowie XL2731 - 27 Inch e-Sports Gaming Mo...     XL2731\n",
            "30    Benq  BenQ ZOWIE XL2746S - 27 Inch e-Sports Gaming M...    XL2746S\n",
            "31    Benq  BenQ GL2780 - 27 Inch Eye-Care Monitor (1ms Re...     GL2780\n"
          ]
        }
      ]
    },
    {
      "cell_type": "code",
      "source": [
        "# EXTRACTING MODEL NUMBER FOR ASUS\n",
        "expression = '(?i)asus '\n",
        "asuslist = [];\n",
        "for name in names:\n",
        "  inch_search = re.search(expression, name);\n",
        "  if inch_search:\n",
        "    asuslist.append(name);\n",
        "\n",
        "asuslist = pd.Series(asuslist)\n",
        "asusmodelnumbers = []\n",
        "# now we have to find model no.\n",
        "model_expression = ' (VG|VP|VZ|PA|XG|PB|VA)[A-Za-z0-9]* '\n",
        "for name in asuslist:\n",
        "  inch_search = re.search(model_expression,name);\n",
        "  if inch_search:\n",
        "    asusmodelnumbers.append({\"company\":\"Asus\",\"name\":name , \"model\" : inch_search.group(0)})\n",
        "  else:\n",
        "    print(name)\n",
        "\n",
        "asusmodelnumbers = pd.DataFrame(asusmodelnumbers);"
      ],
      "metadata": {
        "id": "ZOoy4fdGNqkd"
      },
      "execution_count": 92,
      "outputs": []
    },
    {
      "cell_type": "code",
      "source": [
        "print(asusmodelnumbers)"
      ],
      "metadata": {
        "id": "sNAmWZN7PanI",
        "outputId": "1af4af04-65da-40cc-e3e9-b6f68ee3e13d",
        "colab": {
          "base_uri": "https://localhost:8080/"
        }
      },
      "execution_count": 93,
      "outputs": [
        {
          "output_type": "stream",
          "name": "stdout",
          "text": [
            "   company                                               name        model\n",
            "0     Asus  Asus ProArt Display PA278QV - 27 Inch 100% sRG...     PA278QV \n",
            "1     Asus  ASUS ProArt PA27AC 27-Inch Screen LED-Lit Monitor      PA27AC \n",
            "2     Asus  ASUS PB287Q - 28 Inch Gaming Monitor (1ms Resp...      PB287Q \n",
            "3     Asus  ASUS VA24EHE 24 Inch Gaming Monitor (Adaptive-...     VA24EHE \n",
            "4     Asus  ASUS VG248QE - 24 Inch 3D Gaming Monitor (1ms ...     VG248QE \n",
            "5     Asus  ASUS VG258QR - 25 Inch Gaming Monitor (Nvidia ...     VG258QR \n",
            "6     Asus  ASUS TUF GAMING VG259Q - 25 Inch Gaming Monito...      VG259Q \n",
            "7     Asus  ASUS VG278QR - 27 Inch Gaming Monitor (Nvidia ...     VG278QR \n",
            "8     Asus  ASUS TUF GAMING VG279QM 27 Inch Gaming Monitor...     VG279QM \n",
            "9     Asus  ASUS VG27AQL1A 27 inch WQHD TUF Gaming  Gaming...   VG27AQL1A \n",
            "10    Asus  ASUS VP228H - 22 Inch Gaming Monitor (1ms Resp...      VP228H \n",
            "11    Asus  ASUS VZ229H - 22 Inch Monitor (5ms Response Ti...      VZ229H \n",
            "12    Asus  ASUS VZ249H - 24 Inch Monitor (5ms Response Ti...      VZ249H \n",
            "13    Asus  ASUS VZ279HE - 27 Inch Monitor (5ms Response T...     VZ279HE \n",
            "14    Asus  ASUS ROG Strix XG248Q - 24 Inch Gaming Monitor...      XG248Q \n",
            "15    Asus  ASUS ROG Strix XG32VQ - 32 Inch 125% sRGB Curv...      XG32VQ \n",
            "16    Asus  ASUS TUF Gaming VG27AQ - 27 Inch Gaming Monito...      VG27AQ \n"
          ]
        }
      ]
    },
    {
      "cell_type": "code",
      "source": [
        "#EXTRACTED MODEL NUMBER FOR VIEWSONIC\n",
        "expression = '(?i)viewsonic '\n",
        "viewsoniclist = [];\n",
        "for name in names:\n",
        "  inch_search = re.search(expression, name);\n",
        "  if inch_search:\n",
        "    viewsoniclist.append(name);\n",
        "\n",
        "viewsoniclist = pd.Series(viewsoniclist)\n",
        "viewsonicmodelnumbers = []\n",
        "# now we have to find model no.\n",
        "model_expression = ' (VA|VX|VP|XG|TD)[A-Za-z0-9]*'\n",
        "for name in viewsoniclist:\n",
        "  inch_search = re.search(model_expression,name);\n",
        "  if inch_search:\n",
        "    viewsonicmodelnumbers.append({\"company\":\"Viewsonic\",\"name\":name , \"model\" : inch_search.group(0)})\n",
        "  else:\n",
        "    print(name)\n",
        "\n",
        "viewsonicmodelnumbers = pd.DataFrame(viewsonicmodelnumbers);"
      ],
      "metadata": {
        "id": "q1tc6HLZPdiu"
      },
      "execution_count": 94,
      "outputs": []
    },
    {
      "cell_type": "code",
      "source": [
        "print(viewsonicmodelnumbers)"
      ],
      "metadata": {
        "id": "MzS7x1wmQC3b",
        "outputId": "b5217c27-5fd4-4e78-b08a-9aa9cb931d94",
        "colab": {
          "base_uri": "https://localhost:8080/"
        }
      },
      "execution_count": 95,
      "outputs": [
        {
          "output_type": "stream",
          "name": "stdout",
          "text": [
            "     company                                               name    model\n",
            "0  Viewsonic  Viewsonic 24 inch VP2468 IPS Professional Monitor   VP2468\n",
            "1  Viewsonic  ViewSonic XG2405 - 24 Inch Gaming Monitor (AMD...   XG2405\n",
            "2  Viewsonic  ViewSonic VX2476-smhd 24 inch frameless IPS Mo...   VX2476\n",
            "3  Viewsonic            ViewSonic VA2418-SH 241080p IPS Monitor   VA2418\n",
            "4  Viewsonic           ViewSonic VA2718-SH 27 1080p IPS Monitor   VA2718\n",
            "5  Viewsonic     Viewsonic 24 inch VX2457-MHD Gaming TN Monitor   VX2457\n",
            "6  Viewsonic          Viewsonic 27 inch VX2776-SMHD IPS Monitor   VX2776\n",
            "7  Viewsonic        Viewsonic 32 inch VX3276-2K-MHD IPS Monitor   VX3276\n",
            "8  Viewsonic           Viewsonic 23.6 inch TD2421 Touch Monitor   TD2421\n",
            "9  Viewsonic  ViewSonic VA2256-H - 22 Inch Gaming Monitor (A...   VA2256\n"
          ]
        }
      ]
    },
    {
      "cell_type": "code",
      "source": [
        "# EXTRACTED MODEL NUMBER FOR GIGABYTE\n",
        "expression = '(?i)(gigabyte|aorus) '\n",
        "gigabytelist = [];\n",
        "for name in names:\n",
        "  inch_search = re.search(expression, name);\n",
        "  if inch_search:\n",
        "    gigabytelist.append(name);\n",
        "\n",
        "gigabytelist = pd.Series(gigabytelist)\n",
        "gigabytemodelnumbers = []\n",
        "# now we have to find model no.\n",
        "model_expression = ' (G|M|CV|FI|AD)[A-Z0-9]* '\n",
        "for name in gigabytelist:\n",
        "  inch_search = re.search(model_expression,name);\n",
        "  if inch_search:\n",
        "    gigabytemodelnumbers.append({\"company\":\"Gigabyte\",\"name\":name , \"model\" : inch_search.group(0)})\n",
        "  else:\n",
        "    print(name)\n",
        "\n",
        "gigabytemodelnumbers = pd.DataFrame(gigabytemodelnumbers);"
      ],
      "metadata": {
        "id": "NDAzONN0QF-a"
      },
      "execution_count": 96,
      "outputs": []
    },
    {
      "cell_type": "code",
      "source": [
        "print(gigabytemodelnumbers)"
      ],
      "metadata": {
        "id": "L-NSz6NgQkA8",
        "outputId": "1ca1ec43-4a56-4fd7-ce65-d9d4adfe8e73",
        "colab": {
          "base_uri": "https://localhost:8080/"
        }
      },
      "execution_count": 97,
      "outputs": [
        {
          "output_type": "stream",
          "name": "stdout",
          "text": [
            "    company                                               name     model\n",
            "0  Gigabyte  AORUS AD27QD 27 Inch 2K 144Hz FreeSync IPS Mon...   AD27QD \n",
            "1  Gigabyte  Gigabyte Aorus CV27F - 27 Inch Curved RGB Gami...    CV27F \n",
            "2  Gigabyte  GIGABYTE AORUS FI27Q - 27 Inch RGB Tactical Ga...    FI27Q \n",
            "3  Gigabyte  GIGABYTE G32QC - 32 Inch Curved Gaming Monitor...    G32QC \n",
            "4  Gigabyte               GIGABYTE G27F 27 INCH GAMING MONITOR     G27F \n",
            "5  Gigabyte              GIGABYTE G27FC 27 INCH GAMING MONITOR    G27FC \n",
            "6  Gigabyte               GIGABYTE M27F 27 INCH GAMING MONITOR     M27F \n",
            "7  Gigabyte               GIGABYTE G27Q 27 INCH GAMING MONITOR     G27Q \n",
            "8  Gigabyte               GIGABYTE M27Q 27 INCH GAMING MONITOR     M27Q \n"
          ]
        }
      ]
    },
    {
      "cell_type": "code",
      "source": [
        "#EXTRACTING MODEL NUMBERS FOR MSI\n",
        "expression = '(?i)msi '\n",
        "msilist = [];\n",
        "for name in names:\n",
        "  inch_search = re.search(expression, name);\n",
        "  if inch_search:\n",
        "    msilist.append(name);\n",
        "\n",
        "msilist = pd.Series(msilist)\n",
        "msimodelnumbers = []\n",
        "# now we have to find model no.\n",
        "model_expression = ' (G|MAG|MP)[A-Z0-9]* '\n",
        "for name in msilist:\n",
        "  inch_search = re.search(model_expression,name);\n",
        "  if inch_search:\n",
        "    msimodelnumbers.append({\"company\":\"msi\",\"name\":name , \"model\" : inch_search.group(0)})\n",
        "  else:\n",
        "    print(name)\n",
        "\n",
        "msimodelnumbers = pd.DataFrame(msimodelnumbers);"
      ],
      "metadata": {
        "id": "rtwL7HHBQswf"
      },
      "execution_count": 98,
      "outputs": []
    },
    {
      "cell_type": "code",
      "source": [
        "print(msimodelnumbers)"
      ],
      "metadata": {
        "id": "LMHqWEj6RSFD",
        "outputId": "c3e94173-ea28-492b-f08d-c15d0af828a8",
        "colab": {
          "base_uri": "https://localhost:8080/"
        }
      },
      "execution_count": 99,
      "outputs": [
        {
          "output_type": "stream",
          "name": "stdout",
          "text": [
            "  company                                               name      model\n",
            "0     msi  MSI Optix G241 - 24 Inch Gaming Monitor (AMD F...      G241 \n",
            "1     msi  MSI Optix G271 - 27 Inch Gaming Monitor (AMD F...      G271 \n",
            "2     msi  MSI Optix G27C4 - 27 Inch 115% sRGB Curved Gam...     G27C4 \n",
            "3     msi  MSI Optix G27CQ4 - 27 Inch Curved Gaming Monit...    G27CQ4 \n",
            "4     msi  MSI Optix MAG241C 24 Inch 115% sRGB Curved Gam...   MAG241C \n",
            "5     msi  Msi Optix G24C4 - 24 Inch Curved Gaming Monito...     G24C4 \n",
            "6     msi  Msi PRO MP241 - 24 Inch Professional Monitor (...     MP241 \n"
          ]
        }
      ]
    },
    {
      "cell_type": "code",
      "source": [
        "# EXTRACTED MODEL NUMBER FOR AOC\n",
        "expression = '(?i)aoc '\n",
        "aoclist = [];\n",
        "for name in names:\n",
        "  inch_search = re.search(expression, name);\n",
        "  if inch_search:\n",
        "    aoclist.append(name);\n",
        "\n",
        "aoclist = pd.Series(aoclist)\n",
        "aocmodelnumbers = []\n",
        "# now we have to find model no.\n",
        "model_expression = ' (\\()?(C|E|G)[A-Z0-9]+'\n",
        "for name in aoclist:\n",
        "  inch_search = re.search(model_expression,name);\n",
        "  if inch_search:\n",
        "    aocmodelnumbers.append({\"company\":\"aoc\",\"name\":name , \"model\" : inch_search.group(0)})\n",
        "  else:\n",
        "    print(name)\n",
        "\n",
        "aocmodelnumbers = pd.DataFrame(aocmodelnumbers);"
      ],
      "metadata": {
        "id": "7yEqhJHCRTv4"
      },
      "execution_count": 100,
      "outputs": []
    },
    {
      "cell_type": "code",
      "source": [
        "print(aocmodelnumbers)"
      ],
      "metadata": {
        "id": "qh_03ZmPR_H_",
        "outputId": "58ae6f49-c268-45ff-dc0d-c8035c9fb8ef",
        "colab": {
          "base_uri": "https://localhost:8080/"
        }
      },
      "execution_count": 101,
      "outputs": [
        {
          "output_type": "stream",
          "name": "stdout",
          "text": [
            "  company                                               name       model\n",
            "0     aoc             AOC C24G1 24 INCH CURVE GAMING MONITOR       C24G1\n",
            "1     aoc  AOC E2270SWHN - 22 Inch Monitor (5 ms Response...   E2270SWHN\n",
            "2     aoc  AOC E970SWN5 - 19 Inch Monitor (5ms Response T...    E970SWN5\n",
            "3     aoc  AOC 24.5-inch LED Gaming Monitor (G2590PX) “ B...    (G2590PX\n"
          ]
        }
      ]
    },
    {
      "cell_type": "code",
      "source": [
        "# CREATE A DATAFRAME WITH COMPANY NAME , MODEL NUMBER AND MODEL\n",
        "result = pd.concat([lgmodelnumbers , hpmodelnumbers ,sammodelnumbers , acermodelnumbers , dellmodelnumbers , benqmodelnumbers , asusmodelnumbers , viewsonicmodelnumbers , gigabytemodelnumbers , msimodelnumbers , aocmodelnumbers ])\n",
        "result.to_csv('Monitor_models.csv', index=False)"
      ],
      "metadata": {
        "id": "S8h0m4wariwc"
      },
      "execution_count": 102,
      "outputs": []
    },
    {
      "cell_type": "code",
      "source": [],
      "metadata": {
        "id": "ESFNKXwztod9"
      },
      "execution_count": 102,
      "outputs": []
    }
  ]
}