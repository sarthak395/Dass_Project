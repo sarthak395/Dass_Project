{
 "cells": [
  {
   "cell_type": "code",
   "execution_count": 1,
   "metadata": {},
   "outputs": [],
   "source": [
    "import pandas as pd\n",
    "import re\n",
    "import numpy as np"
   ]
  },
  {
   "cell_type": "code",
   "execution_count": 2,
   "metadata": {},
   "outputs": [],
   "source": [
    "def load_data(input_file):\n",
    "    data = pd.read_csv(input_file)\n",
    "    return data"
   ]
  },
  {
   "cell_type": "code",
   "execution_count": 3,
   "metadata": {},
   "outputs": [],
   "source": [
    "def inputcols(input_dataset):\n",
    "    names = input_dataset['Name']\n",
    "    details = input_dataset['Details']\n",
    "    links = input_dataset['URL']\n",
    "    return names, details , links"
   ]
  },
  {
   "cell_type": "code",
   "execution_count": 6,
   "metadata": {},
   "outputs": [],
   "source": [
    "data = load_data('monitor.csv')\n",
    "names, details , links = inputcols(data)"
   ]
  },
  {
   "cell_type": "code",
   "execution_count": 4,
   "metadata": {},
   "outputs": [],
   "source": [
    "def extract_company_name(names,expression):\n",
    "    companylist_name = []\n",
    "    for name in names:\n",
    "        re_search = re.search(expression, name)\n",
    "        if re_search:\n",
    "            companylist_name.append(name)\n",
    "    return companylist_name"
   ]
  },
  {
   "cell_type": "code",
   "execution_count": 5,
   "metadata": {},
   "outputs": [],
   "source": [
    "def extract_company_details(details,expression):\n",
    "    companylist_det = []\n",
    "    for det in details:\n",
    "        re_search = re.search(expression, det)\n",
    "        if re_search:\n",
    "            companylist_det.append(det)\n",
    "    return companylist_det;"
   ]
  },
  {
   "cell_type": "code",
   "execution_count": 7,
   "metadata": {},
   "outputs": [],
   "source": [
    "def extract_company_links(input_dataset,expression):\n",
    "    companylist_links = []\n",
    "    for name, link in zip(input_dataset['Name'], input_dataset['URL']):\n",
    "        re_search = re.search(expression, name)\n",
    "        if re_search:\n",
    "            companylist_links.append(link)\n",
    "    return companylist_links;"
   ]
  },
  {
   "cell_type": "code",
   "execution_count": 8,
   "metadata": {},
   "outputs": [],
   "source": [
    "def filtering_company_products(names, details,data, expression):\n",
    "    companylist_name = extract_company_name(names, expression);\n",
    "    companylist_det = extract_company_details(details, expression);\n",
    "    companylist_links = extract_company_links(data, expression);\n",
    "    companylist = pd.concat([pd.Series(companylist_name), pd.Series(companylist_det) , pd.Series(companylist_links)], axis=1)\n",
    "    return companylist;"
   ]
  },
  {
   "cell_type": "code",
   "execution_count": 9,
   "metadata": {},
   "outputs": [],
   "source": [
    "def extract_company_model_data(companylist,model_expression,company_name):\n",
    "    companymodelnumbers = []\n",
    "    for name, det,link in companylist.itertuples(index=False):\n",
    "        re_search = re.search(model_expression, name)\n",
    "        if re_search:\n",
    "            companymodelnumbers.append({\"company\": company_name, \"name\": name, \"model\": re_search.group(0),\"link\":link})\n",
    "        else:\n",
    "            re_search2 = re.search(model_expression, det)\n",
    "            if re_search2:\n",
    "                companymodelnumbers.append({\"company\": company_name, \"name\": name, \"model\": re_search2.group(0),\"link\":link})\n",
    "            else:\n",
    "                companymodelnumbers.append({\"company\": company_name, \"name\": name, \"model\": np.nan,\"link\":links})\n",
    "\n",
    "    # NOW CHECK\n",
    "\n",
    "    companymodelnumbers = pd.DataFrame(companymodelnumbers)\n",
    "    return companymodelnumbers;"
   ]
  },
  {
   "cell_type": "code",
   "execution_count": 12,
   "metadata": {},
   "outputs": [],
   "source": [
    "class Company:\n",
    "    def __init__(self,expression,model_expression,names,details,links,company_name):\n",
    "        self.company_name = company_name\n",
    "        self.names = names;\n",
    "        self.details = details;\n",
    "        self.links = links;\n",
    "        self.expression = expression;\n",
    "        self.model_expression = model_expression;\n",
    "        self.productlist = pd.DataFrame()\n",
    "        self.model_data = pd.DataFrame()\n",
    "        \n",
    "     \n",
    "    def setcompanylist(self):\n",
    "        self.productlist = filtering_company_products(self.names, self.details, data,self.expression)\n",
    "    \n",
    "    def setmodel_data(self):\n",
    "        self.model_data = extract_company_model_data(self.productlist,self.model_expression,self.company_name)\n",
    "    \n",
    "    def callall(self):\n",
    "        self.setcompanylist()\n",
    "        self.setmodel_data()\n",
    "        \n",
    "        return self.model_data"
   ]
  },
  {
   "cell_type": "code",
   "execution_count": 13,
   "metadata": {},
   "outputs": [
    {
     "name": "stderr",
     "output_type": "stream",
     "text": [
      "/var/folders/p6/7ftzfy7d35bcpx9rnxrn15cw0000gn/T/ipykernel_27870/2416091346.py:4: DeprecationWarning: Flags not at the start of the expression '((?i)acer) (((?i)(ni' (truncated) but at position 1\n",
      "  re_search = re.search(model_expression, name)\n",
      "/var/folders/p6/7ftzfy7d35bcpx9rnxrn15cw0000gn/T/ipykernel_27870/2416091346.py:4: DeprecationWarning: Flags not at the start of the expression '((?i)acer) (((?i)(ni' (truncated) but at position 13\n",
      "  re_search = re.search(model_expression, name)\n"
     ]
    }
   ],
   "source": [
    "Lg = Company('LG ' , '\\d{2}[MUBG][A-Za-z0-9]*(-B)?' , names , details ,links, \"LG\")\n",
    "Hp = Company('(?i)HP ' , '(HP) (V?\\d{1,2}[A-Za-z0-9]*) ' , names , details ,links, \"HP\")\n",
    "samsung = Company('(?i)samsung ' , '(CMD|CMK|CMZ|CMW|CMT|CMV)[A-Za-z0-9-]*( )?' , names , details ,links, \"Samsung\")\n",
    "acer = Company('(?i)acer ' , '((?i)acer) (((?i)(nitro|aopen) )?[A-Za-z]+[\\d+][A-Za-z0-9]*) ' , names , details ,links, \"Acer\")\n",
    "dell = Company('(?i)dell ' , '(AM)[A-Za-z0-9-]*( )?' , names , details ,links, \"Dell\")\n",
    "benq =  Company('(?i)benq ' , '(GP-)[A-Za-z0-9-]*( )?' , names , details ,links, \"Benq\")\n",
    "asus = Company('(?i)asus ' , ' (VG|VP|VZ|PA|XG|PB|VA)[A-Za-z0-9]* ' , names , details ,links, \"Asus\")\n",
    "viewsonic = Company('(?i)viewsonic ' , ' (VA|VX|VP|XG|TD)[A-Za-z0-9]*' , names , details ,links, \"Viewsonic\")\n",
    "gigabyte = Company('(?i)(gigabyte|aorus) ' , ' (G|M|CV|FI|AD)[A-Z0-9]* ' , names , details ,links, \"Gigabyte\")\n",
    "msi = Company('(?i)msi ' , ' (G|MAG|MP)[A-Z0-9]* ' , names , details ,links, \"MSI\")\n",
    "aoc = Company('(?i)aoc ' , ' (\\()?(C|E|G)[A-Z0-9]+' , names , details ,links, \"AOC\")\n",
    "\n",
    "\n",
    "Lg.callall()\n",
    "Hp.callall()\n",
    "samsung.callall()\n",
    "acer.callall()\n",
    "dell.callall()\n",
    "benq.callall()\n",
    "asus.callall()\n",
    "viewsonic.callall()\n",
    "gigabyte.callall()\n",
    "msi.callall()\n",
    "aoc.callall()\n",
    "\n",
    "\n",
    "result = pd.concat([Lg.model_data,Hp.model_data,samsung.model_data,acer.model_data,dell.model_data,benq.model_data , asus.model_data , viewsonic.model_data , gigabyte.model_data , msi.model_data , aoc.model_data] ,axis=0, ignore_index=True)\n",
    "\n",
    "result.to_csv('result.csv' , index=False)"
   ]
  },
  {
   "cell_type": "code",
   "execution_count": null,
   "metadata": {},
   "outputs": [],
   "source": []
  }
 ],
 "metadata": {
  "kernelspec": {
   "display_name": "Python 3.9 (tensorflow)",
   "language": "python",
   "name": "tensorflow"
  },
  "language_info": {
   "codemirror_mode": {
    "name": "ipython",
    "version": 3
   },
   "file_extension": ".py",
   "mimetype": "text/x-python",
   "name": "python",
   "nbconvert_exporter": "python",
   "pygments_lexer": "ipython3",
   "version": "3.9.15"
  },
  "orig_nbformat": 4
 },
 "nbformat": 4,
 "nbformat_minor": 2
}
