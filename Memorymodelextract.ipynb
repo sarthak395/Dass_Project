{
  "cells": [
    {
      "cell_type": "markdown",
      "metadata": {
        "id": "view-in-github",
        "colab_type": "text"
      },
      "source": [
        "<a href=\"https://colab.research.google.com/github/sarthak395/Dass_Project/blob/main/Memorymodelextract.ipynb\" target=\"_parent\"><img src=\"https://colab.research.google.com/assets/colab-badge.svg\" alt=\"Open In Colab\"/></a>"
      ]
    },
    {
      "cell_type": "code",
      "execution_count": null,
      "metadata": {
        "id": "BiPcBXB4IRFH"
      },
      "outputs": [],
      "source": [
        "import pandas as pd\n",
        "import re\n",
        "import numpy as np"
      ]
    },
    {
      "cell_type": "code",
      "execution_count": null,
      "metadata": {
        "id": "2-FD7LclJBbp"
      },
      "outputs": [],
      "source": [
        "# LOADING DATA\n",
        "data = pd.read_csv('memory.csv')\n",
        "names = data['Name'];\n",
        "details = data['Details']\n",
        "print(names)"
      ]
    },
    {
      "cell_type": "code",
      "execution_count": null,
      "metadata": {
        "id": "sgzkGKEOJElq"
      },
      "outputs": [],
      "source": [
        "# EXTRACTED MODEL NUMBERS FOR ADATA\n",
        "expression = '(?i)adata '\n",
        "adatalist_name = [];\n",
        "adatalist_det = []\n",
        "for name in names:\n",
        "  inch_search = re.search(expression, name);\n",
        "  if inch_search:\n",
        "    adatalist_name.append(name);\n",
        "\n",
        "for det in details:\n",
        "  inch_search = re.search(expression, det);\n",
        "  if inch_search:\n",
        "    adatalist_det.append(det);\n",
        "\n",
        "adatalist = pd.concat([pd.Series(adatalist_name),pd.Series(adatalist_det)],axis=1)\n",
        "adatamodelnumbers = []\n",
        "# now we have to find model no.\n",
        "model_expression = '(AX4U|AD4U|AX4S)[A-Za-z0-9-]*( )?'\n",
        "for name,det in adatalist.itertuples(index=False):\n",
        "    inch_search = re.search(model_expression,name);\n",
        "    if inch_search:\n",
        "      adatamodelnumbers.append({\"name\":name , \"model\" : inch_search.group(0)})\n",
        "    else:\n",
        "      inch_search2 = re.search(model_expression , det);\n",
        "      if inch_search2:\n",
        "        adatamodelnumbers.append({\"name\":name , \"model\" : inch_search2.group(0)})\n",
        "      else:\n",
        "        adatamodelnumbers.append({\"name\":name , \"model\" : np.nan})\n",
        "\n",
        "#NOW CHECK\n",
        "\n",
        "adatamodelnumbers = pd.DataFrame(adatamodelnumbers);"
      ]
    },
    {
      "cell_type": "code",
      "execution_count": null,
      "metadata": {
        "id": "i_JFYw2oKHJ0"
      },
      "outputs": [],
      "source": [
        "print(adatamodelnumbers)"
      ]
    },
    {
      "cell_type": "code",
      "execution_count": null,
      "metadata": {
        "id": "mjsBM1lOKI-W"
      },
      "outputs": [],
      "source": [
        "# EXTRACTED MODEL NUMBERS FOR CRUCIAL\n",
        "expression = '(?i)crucial '\n",
        "cruciallist_name = [];\n",
        "cruciallist_det = []\n",
        "for name in names:\n",
        "  inch_search = re.search(expression, name);\n",
        "  if inch_search:\n",
        "    cruciallist_name.append(name);\n",
        "\n",
        "for det in details:\n",
        "  inch_search = re.search(expression, det);\n",
        "  if inch_search:\n",
        "    cruciallist_det.append(det);\n",
        "\n",
        "cruciallist = pd.concat([pd.Series(cruciallist_name),pd.Series(cruciallist_det)],axis=1)\n",
        "crucialmodelnumbers = []\n",
        "# now we have to find model no.\n",
        "model_expression = '(BL|CB|CT)[A-Za-z0-9-]*( )?'\n",
        "for name,det in cruciallist.itertuples(index=False):\n",
        "    inch_search = re.search(model_expression,name);\n",
        "    if inch_search:\n",
        "      crucialmodelnumbers.append({\"name\":name , \"model\" : inch_search.group(0)})\n",
        "    else:\n",
        "      inch_search2 = re.search(model_expression , det);\n",
        "      if inch_search2:\n",
        "        crucialmodelnumbers.append({\"name\":name , \"model\" : inch_search2.group(0)})\n",
        "      else:\n",
        "        crucialmodelnumbers.append({\"name\":name , \"model\" : np.nan})\n",
        "\n",
        "#NOW CHECK\n",
        "\n",
        "crucialmodelnumbers = pd.DataFrame(crucialmodelnumbers);\n"
      ]
    },
    {
      "cell_type": "code",
      "execution_count": null,
      "metadata": {
        "id": "xGayqrbyTPGM"
      },
      "outputs": [],
      "source": [
        "print(crucialmodelnumbers)"
      ]
    },
    {
      "cell_type": "code",
      "execution_count": null,
      "metadata": {
        "id": "uwPHaIwaTSHe"
      },
      "outputs": [],
      "source": [
        "# EXTRACTED MODEL NUMBERS FOR CORCAIR\n",
        "expression = '(?i)corsair '\n",
        "corcairlist_name = [];\n",
        "corcairlist_det = []\n",
        "for name in names:\n",
        "  inch_search = re.search(expression, name);\n",
        "  if inch_search:\n",
        "    corcairlist_name.append(name);\n",
        "\n",
        "for det in details:\n",
        "  inch_search = re.search(expression, det);\n",
        "  if inch_search:\n",
        "    corcairlist_det.append(det);\n",
        "\n",
        "corcairlist = pd.concat([pd.Series(corcairlist_name),pd.Series(corcairlist_det)],axis=1)\n",
        "corcairmodelnumbers = []\n",
        "# now we have to find modorcair\n",
        "model_expression = '(CMD|CMK|CMZ|CMW|CMT|CMV)[A-Za-z0-9-]*( )?'\n",
        "for name,det in corcairlist.itertuples(index=False):\n",
        "    inch_search = re.search(model_expression,name);\n",
        "    if inch_search:\n",
        "      corcairmodelnumbers.append({\"name\":name , \"model\" : inch_search.group(0)})\n",
        "    else:\n",
        "      inch_search2 = re.search(model_expression , det);\n",
        "      if inch_search2:\n",
        "        corcairmodelnumbers.append({\"name\":name , \"model\" : inch_search2.group(0)})\n",
        "      else:\n",
        "        corcairmodelnumbers.append({\"name\":name , \"model\" : np.nan})\n",
        "\n",
        "#NOW CHECK\n",
        "\n",
        "corcairmodelnumbers = pd.DataFrame(corcairmodelnumbers);\n"
      ]
    },
    {
      "cell_type": "code",
      "execution_count": null,
      "metadata": {
        "id": "KhQBYKV-WuHF"
      },
      "outputs": [],
      "source": [
        "print(corcairmodelnumbers)"
      ]
    },
    {
      "cell_type": "code",
      "execution_count": null,
      "metadata": {
        "id": "p2dh-rnCWyez"
      },
      "outputs": [],
      "source": [
        "# EXTRACTED MODEL NUMBERS FOR g.skill\n",
        "expression = '(?i)(g.skill) '\n",
        "gskilllist_name = [];\n",
        "gskilllist_det = []\n",
        "for name in names:\n",
        "  inch_search = re.search(expression, name);\n",
        "  if inch_search:\n",
        "    gskilllist_name.append(name);\n",
        "\n",
        "for det in details:\n",
        "  inch_search = re.search(expression, det);\n",
        "  if inch_search:\n",
        "    gskilllist_det.append(det);\n",
        "\n",
        "gskilllist = pd.concat([pd.Series(gskilllist_name),pd.Series(gskilllist_det)],axis=1)\n",
        "gskillmodelnumbers = []\n",
        "# now we have to find modorcair\n",
        "model_expression = '(F4-)[A-Za-z0-9-]*( )?'\n",
        "for name,det in gskilllist.itertuples(index=False):\n",
        "    inch_search = re.search(model_expression,name);\n",
        "    if inch_search:\n",
        "      gskillmodelnumbers.append({\"name\":name , \"model\" : inch_search.group(0)})\n",
        "    else:\n",
        "      inch_search2 = re.search(model_expression , det);\n",
        "      if inch_search2:\n",
        "        gskillmodelnumbers.append({\"name\":name , \"model\" : inch_search2.group(0)})\n",
        "      else:\n",
        "        gskillmodelnumbers.append({\"name\":name , \"model\" : np.nan})\n",
        "\n",
        "#NOW CHECK\n",
        "\n",
        "gskillmodelnumbers = pd.DataFrame(gskillmodelnumbers);\n"
      ]
    },
    {
      "cell_type": "code",
      "execution_count": null,
      "metadata": {
        "id": "LwZORR4qZVvP"
      },
      "outputs": [],
      "source": [
        "print(gskillmodelnumbers)"
      ]
    },
    {
      "cell_type": "code",
      "execution_count": null,
      "metadata": {
        "colab": {
          "base_uri": "https://localhost:8080/"
        },
        "id": "2WcmzUEYZYsE",
        "outputId": "7920c369-dc91-4f98-d973-93666ec77702"
      },
      "outputs": [
        {
          "name": "stdout",
          "output_type": "stream",
          "text": [
            "199\n"
          ]
        }
      ],
      "source": [
        "print(len(gskillmodelnumbers.index)+len(corcairmodelnumbers.index)+len(crucialmodelnumbers.index)+len(adatamodelnumbers.index)+len(antecmodelnumbers.index)+len(gigabytemodelnumbers.index))"
      ]
    },
    {
      "cell_type": "code",
      "execution_count": null,
      "metadata": {
        "id": "dX40mJd5aa-R"
      },
      "outputs": [],
      "source": [
        "# EXTRACTED MODEL NUMBERS FOR antec\n",
        "expression = '(?i)(antec) '\n",
        "anteclist_name = [];\n",
        "anteclist_det = []\n",
        "for name in names:\n",
        "  inch_search = re.search(expression, name);\n",
        "  if inch_search:\n",
        "    anteclist_name.append(name);\n",
        "\n",
        "for det in details:\n",
        "  inch_search = re.search(expression, det);\n",
        "  if inch_search:\n",
        "    anteclist_det.append(det);\n",
        "\n",
        "anteclist = pd.concat([pd.Series(anteclist_name),pd.Series(anteclist_det)],axis=1)\n",
        "antecmodelnumbers = []\n",
        "# now we have to find modorcair\n",
        "model_expression = '(AM)[A-Za-z0-9-]*( )?'\n",
        "for name,det in anteclist.itertuples(index=False):\n",
        "    inch_search = re.search(model_expression,name);\n",
        "    if inch_search:\n",
        "      antecmodelnumbers.append({\"name\":name , \"model\" : inch_search.group(0)})\n",
        "    else:\n",
        "      inch_search2 = re.search(model_expression , det);\n",
        "      if inch_search2:\n",
        "        antecmodelnumbers.append({\"name\":name , \"model\" : inch_search2.group(0)})\n",
        "      else:\n",
        "        antecmodelnumbers.append({\"name\":name , \"model\" : np.nan})\n",
        "\n",
        "#NOW CHECK\n",
        "antecmodelnumbers = pd.DataFrame(antecmodelnumbers);"
      ]
    },
    {
      "cell_type": "code",
      "execution_count": null,
      "metadata": {
        "id": "O6-LWzL5bmao"
      },
      "outputs": [],
      "source": [
        "# EXTRACTED MODEL NUMBERS FOR gigabyte\n",
        "expression = '(?i)(gigabyte) '\n",
        "gigabytelist_name = [];\n",
        "gigabytelist_det = []\n",
        "for name in names:\n",
        "  inch_search = re.search(expression, name);\n",
        "  if inch_search:\n",
        "    gigabytelist_name.append(name);\n",
        "\n",
        "for det in details:\n",
        "  inch_search = re.search(expression, det);\n",
        "  if inch_search:\n",
        "    gigabytelist_det.append(det);\n",
        "\n",
        "gigabytelist = pd.concat([pd.Series(gigabytelist_name),pd.Series(gigabytelist_det)],axis=1)\n",
        "gigabytemodelnumbers = []\n",
        "# now we have to find modorcair\n",
        "model_expression = '(GP-)[A-Za-z0-9-]*( )?'\n",
        "for name,det in gigabytelist.itertuples(index=False):\n",
        "    inch_search = re.search(model_expression,name);\n",
        "    if inch_search:\n",
        "      gigabytemodelnumbers.append({\"name\":name , \"model\" : inch_search.group(0)})\n",
        "    else:\n",
        "      inch_search2 = re.search(model_expression , det);\n",
        "      if inch_search2:\n",
        "        gigabytemodelnumbers.append({\"name\":name , \"model\" : inch_search2.group(0)})\n",
        "      else:\n",
        "        print(name)\n",
        "\n",
        "#NOW CHECK\n",
        "gigabytemodelnumbers = pd.DataFrame(gigabytemodelnumbers);"
      ]
    },
    {
      "cell_type": "code",
      "execution_count": null,
      "metadata": {
        "id": "92g_va4mcdqR"
      },
      "outputs": [],
      "source": [
        "print(gigabytemodelnumbers)"
      ]
    },
    {
      "cell_type": "code",
      "execution_count": null,
      "metadata": {
        "id": "pCxW1lbFclJB"
      },
      "outputs": [],
      "source": [
        "# Remaining\n",
        "remainingmodelnumbers = [{\"name\":\"Thermaltake Desktop WaterRam RGB Liquid Cooling Memory 16GB (8GBx2) DDR4 3200MHz\",\"model\":np.nan}]"
      ]
    },
    {
      "cell_type": "code",
      "execution_count": null,
      "metadata": {
        "id": "ZApltphodUya"
      },
      "outputs": [],
      "source": []
    }
  ],
  "metadata": {
    "colab": {
      "provenance": [],
      "include_colab_link": true
    },
    "kernelspec": {
      "display_name": "Python 3",
      "language": "python",
      "name": "python3"
    },
    "language_info": {
      "codemirror_mode": {
        "name": "ipython",
        "version": 3
      },
      "file_extension": ".py",
      "mimetype": "text/x-python",
      "name": "python",
      "nbconvert_exporter": "python",
      "pygments_lexer": "ipython3",
      "version": "3.11.0"
    },
    "vscode": {
      "interpreter": {
        "hash": "5c7b89af1651d0b8571dde13640ecdccf7d5a6204171d6ab33e7c296e100e08a"
      }
    }
  },
  "nbformat": 4,
  "nbformat_minor": 0
}