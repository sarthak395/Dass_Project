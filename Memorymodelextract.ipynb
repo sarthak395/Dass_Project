{
  "cells": [
    {
      "cell_type": "markdown",
      "metadata": {
        "id": "view-in-github",
        "colab_type": "text"
      },
      "source": [
        "<a href=\"https://colab.research.google.com/github/sarthak395/Dass_Project/blob/main/Memorymodelextract.ipynb\" target=\"_parent\"><img src=\"https://colab.research.google.com/assets/colab-badge.svg\" alt=\"Open In Colab\"/></a>"
      ]
    },
    {
      "cell_type": "code",
      "execution_count": null,
      "metadata": {
        "id": "BiPcBXB4IRFH"
      },
      "outputs": [],
      "source": [
        "import pandas as pd\n",
        "import re\n",
        "import numpy as np"
      ]
    },
    {
      "cell_type": "code",
      "execution_count": null,
      "metadata": {
        "colab": {
          "base_uri": "https://localhost:8080/"
        },
        "id": "2-FD7LclJBbp",
        "outputId": "73bc499f-9996-4566-9ef5-40ddae6767a6"
      },
      "outputs": [
        {
          "name": "stdout",
          "output_type": "stream",
          "text": [
            "0      Adata AD4U2400J4G17-R Desktop Ram Premier Seri...\n",
            "1      Antec AM4U32168G11-7DKR Desktop Ram Katana 7 S...\n",
            "2          Antec Katana 7 16GB (8GBx2) DDR4 3600MHz ARGB\n",
            "3      ADATA XPG Flame Series 8GB (8GBx1) DDR4 2666MH...\n",
            "4      Adata AX4U3000316G16A-DT60 Desktop Ram XPG Spe...\n",
            "                             ...                        \n",
            "195    G.Skill TRIDENT Z 16GB (8GBX2) DDR4 4133MHz RG...\n",
            "196    G.Skill F4-4266C19D-16GTZR Desktop Ram Trident...\n",
            "197    GIGABYTE GP-AR32C16S8K2HU416R Desktop Ram 16GB...\n",
            "198    Gigabyte GP-AR36C18S8K2HU416R Desktop Ram Aoru...\n",
            "199    Gigabyte AORUS RGB 16GB (8GBx2) DDR4 4400MHz (...\n",
            "Name: Name, Length: 200, dtype: object\n"
          ]
        }
      ],
      "source": [
        "# LOADING DATA\n",
        "data = pd.read_csv('memory.csv')\n",
        "names = data['Name'];\n",
        "details = data['Details']\n",
        "print(names)"
      ]
    },
    {
      "cell_type": "code",
      "execution_count": null,
      "metadata": {
        "id": "sgzkGKEOJElq"
      },
      "outputs": [],
      "source": [
        "# EXTRACTED MODEL NUMBERS FOR ADATA\n",
        "expression = '(?i)adata '\n",
        "adatalist_name = [];\n",
        "adatalist_det = []\n",
        "for name in names:\n",
        "  inch_search = re.search(expression, name);\n",
        "  if inch_search:\n",
        "    adatalist_name.append(name);\n",
        "\n",
        "for det in details:\n",
        "  inch_search = re.search(expression, det);\n",
        "  if inch_search:\n",
        "    adatalist_det.append(det);\n",
        "\n",
        "adatalist = pd.concat([pd.Series(adatalist_name),pd.Series(adatalist_det)],axis=1)\n",
        "adatamodelnumbers = []\n",
        "# now we have to find model no.\n",
        "model_expression = '(AX4U|AD4U|AX4S)[A-Za-z0-9-]*( )?'\n",
        "for name,det in adatalist.itertuples(index=False):\n",
        "    inch_search = re.search(model_expression,name);\n",
        "    if inch_search:\n",
        "      adatamodelnumbers.append({\"name\":name , \"model\" : inch_search.group(0)})\n",
        "    else:\n",
        "      inch_search2 = re.search(model_expression , det);\n",
        "      if inch_search2:\n",
        "        adatamodelnumbers.append({\"name\":name , \"model\" : inch_search2.group(0)})\n",
        "      else:\n",
        "        adatamodelnumbers.append({\"name\":name , \"model\" : np.nan})\n",
        "\n",
        "#NOW CHECK\n",
        "\n",
        "adatamodelnumbers = pd.DataFrame(adatamodelnumbers);"
      ]
    },
    {
      "cell_type": "code",
      "execution_count": null,
      "metadata": {
        "id": "i_JFYw2oKHJ0"
      },
      "outputs": [],
      "source": [
        "print(adatamodelnumbers)"
      ]
    },
    {
      "cell_type": "code",
      "execution_count": null,
      "metadata": {
        "id": "mjsBM1lOKI-W"
      },
      "outputs": [],
      "source": [
        "# EXTRACTED MODEL NUMBERS FOR CRUCIAL\n",
        "expression = '(?i)crucial '\n",
        "cruciallist_name = [];\n",
        "cruciallist_det = []\n",
        "for name in names:\n",
        "  inch_search = re.search(expression, name);\n",
        "  if inch_search:\n",
        "    cruciallist_name.append(name);\n",
        "\n",
        "for det in details:\n",
        "  inch_search = re.search(expression, det);\n",
        "  if inch_search:\n",
        "    cruciallist_det.append(det);\n",
        "\n",
        "cruciallist = pd.concat([pd.Series(cruciallist_name),pd.Series(cruciallist_det)],axis=1)\n",
        "crucialmodelnumbers = []\n",
        "# now we have to find model no.\n",
        "model_expression = '(BL|CB|CT)[A-Za-z0-9-]*( )?'\n",
        "for name,det in cruciallist.itertuples(index=False):\n",
        "    inch_search = re.search(model_expression,name);\n",
        "    if inch_search:\n",
        "      crucialmodelnumbers.append({\"name\":name , \"model\" : inch_search.group(0)})\n",
        "    else:\n",
        "      inch_search2 = re.search(model_expression , det);\n",
        "      if inch_search2:\n",
        "        crucialmodelnumbers.append({\"name\":name , \"model\" : inch_search2.group(0)})\n",
        "      else:\n",
        "        print(name)\n",
        "\n",
        "#NOW CHECK\n",
        "\n",
        "crucialmodelnumbers = pd.DataFrame(crucialmodelnumbers);\n"
      ]
    },
    {
      "cell_type": "code",
      "execution_count": null,
      "metadata": {
        "id": "xGayqrbyTPGM"
      },
      "outputs": [],
      "source": [
        "print(crucialmodelnumbers)"
      ]
    },
    {
      "cell_type": "code",
      "execution_count": null,
      "metadata": {
        "colab": {
          "background_save": true
        },
        "id": "uwPHaIwaTSHe",
        "outputId": "aa260e61-9e9a-48f3-c2c0-31cec101b114"
      },
      "outputs": [
        {
          "name": "stdout",
          "output_type": "stream",
          "text": [
            "CORSAIR VENGEANCE LPX 16GB (2 x 8GB) DDR4 DRAM 3600MHz C18 Memory Kit – Black\n",
            "Corsair VENGEANCE® LPX 16GB (8GBX2) DDR4 DRAM 4000MHz C19 Memory Kit - Black\n",
            "CORSAIR VENGEANCE LPX 32GB(16GBX2) DDR4 DRAM 3600MHZ C18 RAM (BLACK)\n",
            "Corsair VENGEANCE® RGB 16GB (8GBX2) DDR4 DRAM 3000MHz C16 Memory Kit - White\n",
            "Corsair CMT16GX4M2C3000C15 Desktop Ram DOMINATOR PLATINUM RGB Series 16GB (8GBx2) DDR4 3000MHz\n",
            "CORSAIR DOMINATOR PLATINUM RGB 16GB (8GBx2) DDR4 3200MHz DESKTOP RAM (CMT16GX4M2C3200C16)\n",
            "Corsair CMT32GX4M2C3000C15 Desktop Ram DOMINATOR PLATINUM RGB Series 32GB (16GBx2) DDR4 3000MHz\n",
            "CORSAIR DOMINATOR PLATINUM RGB 32GB (16 GB X 2) DDR4 DRAM 3200MHZ C16 RAM (CMT32GX4M2C3200C16)\n",
            "CORSAIR Desktop Value Series – 4GB (4GBx1) DDR3 1600MHz RAM (CMV4GX3M1A1600C11)\n",
            "CORSAIR Desktop Value Series – 4GB (4GBx1) DDR3L 1600MHz RAM (CMV4GX3M1C1600C11)\n",
            "CORSAIR Desktop Value Series 8gb (8GBx1) DDR3 1600MHz RAM (CMV8GX3M1A1600C11)\n",
            "Corsair CMW16GX4M1D3000C16 Desktop Ram Vengeance RGB Pro Series - 16GB (16GBx1) DDR4 3000MHz\n",
            "Corsair CMW16GX4M1Z3200C16 Desktop Ram Vengeance RGB Pro Series - 16GB (16GBx1) DDR4 3200MHz\n",
            "CORSAIR Desktop Vengeance RGB Pro Series – 16GB (8GBx2) DDR4 3000MHz RAM (CMW16GX4M2C3000C15)\n",
            "CORSAIR 16GB (8GBX2) DDR4 – 3000 MHZ C16 VENGEANCE RGB SERIES RAM (CMW16GX4M2C3000C15W)\n",
            "CORSAIR Desktop Vengeance RGB Pro Series – 16GB (8GBx2) DDR4 3200MHz RAM (CMW16GX4M2C3200C16)\n",
            "CORSAIR Desktop Vengeance RGB Pro Series – 16GB (8GBx2) DDR4 3200MHz RAM White (CMW16GX4M2C3200C16W)\n",
            "Corsair VENGEANCE® RGB PRO 16GB (8GBX2) DDR4 DRAM 3600MHz C18 Memory - Black\n",
            "Corsair VENGEANCE® RGB PRO 16GB (8GBX2) DDR4 DRAM 3600MHz C18 Memory Kit - White\n",
            "Corsair VENGEANCE® RGB PRO 16GB (8GBX2) DDR4 DRAM 3600MHz C18 Memory - White\n",
            "Corsair VENGEANCE® RGB PRO 32GB (16GBX2) DDR4 DRAM 3000MHz C15 Memory Kit - White\n",
            "CORSAIR VENGEANCE® RGB PRO 32GB (2 x 16GB) DDR4 DRAM 3200MHz C16 Memory Kit – Black\n",
            "CORSAIR 32GB (2 X 16GB) DDR4 DRAM 3200MHZ C16 VENGEANCE RGB PRO SERIES – WHITE RAM\n",
            "CORSAIR VENGEANCE RGB PRO 32GB (16GBx2) DDR4 3600MHz RAM (BLACK)\n",
            "CORSAIR 8GB (1X8GB) DDR4 – 3000 MHZ C16 VENGEANCE RGB PRO SERIES RAM (CMW8GX4M1D3000C16)\n",
            "Corsair VENGEANCE RGB PRO 8GB (8GBX1) DDR4 DRAM 3200MHz C16 Memory Kit\n",
            "CORSAIR DESKTOP RAM VENGEANCE SERIES – 4GB (4GBx1) DDR3 1600MHz RAM (CMZ4GX3M1A1600C9)\n",
            "CORSAIR Desktop Vengeance Series – 8GB (8GBx1) DDR3 1600MHz RAM (CMZ8GX3M1A1600C10)\n"
          ]
        }
      ],
      "source": [
        "# EXTRACTED MODEL NUMBERS FOR CORCAIR\n",
        "expression = '(?i)corsair '\n",
        "corcairlist_name = [];\n",
        "corcairlist_det = []\n",
        "for name in names:\n",
        "  inch_search = re.search(expression, name);\n",
        "  if inch_search:\n",
        "    corcairlist_name.append(name);\n",
        "\n",
        "for det in details:\n",
        "  inch_search = re.search(expression, det);\n",
        "  if inch_search:\n",
        "    corcairlist_det.append(det);\n",
        "\n",
        "corcairlist = pd.concat([pd.Series(corcairlist_name),pd.Series(corcairlist_det)],axis=1)\n",
        "corcairmodelnumbers = []\n",
        "# now we have to find modorcair\n",
        "model_expression = '(CMD|CMK)[A-Za-z0-9-]*( )?'\n",
        "for name,det in corcairlist.itertuples(index=False):\n",
        "    inch_search = re.search(model_expression,name);\n",
        "    if inch_search:\n",
        "      corcairmodelnumbers.append({\"name\":name , \"model\" : inch_search.group(0)})\n",
        "    else:\n",
        "      inch_search2 = re.search(model_expression , det);\n",
        "      if inch_search2:\n",
        "        corcairmodelnumbers.append({\"name\":name , \"model\" : inch_search2.group(0)})\n",
        "      else:\n",
        "        print(name)\n",
        "\n",
        "#NOW CHECK\n",
        "\n",
        "corcairmodelnumbers = pd.DataFrame(corcairmodelnumbers);\n"
      ]
    }
  ],
  "metadata": {
    "colab": {
      "provenance": [],
      "authorship_tag": "ABX9TyM41WOyzuBpf+lhVmT8o6KY",
      "include_colab_link": true
    },
    "kernelspec": {
      "display_name": "Python 3",
      "name": "python3"
    },
    "language_info": {
      "name": "python"
    }
  },
  "nbformat": 4,
  "nbformat_minor": 0
}